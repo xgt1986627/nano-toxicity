{
 "cells": [
  {
   "cell_type": "code",
   "execution_count": 1,
   "id": "b197e88b",
   "metadata": {},
   "outputs": [],
   "source": [
    "import numpy as np\n",
    "import pandas as pd\n",
    "from sklearn.preprocessing import StandardScaler\n",
    "from sklearn.linear_model import LinearRegression, Lasso, Ridge, ElasticNet\n",
    "from sklearn.linear_model import LogisticRegression\n",
    "from sklearn.model_selection import KFold,ShuffleSplit,cross_val_score"
   ]
  },
  {
   "cell_type": "code",
   "execution_count": 2,
   "id": "7715ae7a",
   "metadata": {},
   "outputs": [],
   "source": [
    "shuju2= pd.read_excel(\"LIPIRIN_MET_identify.xlsx\",index_col=0)"
   ]
  },
  {
   "cell_type": "code",
   "execution_count": 3,
   "id": "4a26ff32",
   "metadata": {},
   "outputs": [],
   "source": [
    "shuju2_ =shuju2.copy()"
   ]
  },
  {
   "cell_type": "code",
   "execution_count": 4,
   "id": "16e88dc6",
   "metadata": {},
   "outputs": [
    {
     "data": {
      "text/html": [
       "<div>\n",
       "<style scoped>\n",
       "    .dataframe tbody tr th:only-of-type {\n",
       "        vertical-align: middle;\n",
       "    }\n",
       "\n",
       "    .dataframe tbody tr th {\n",
       "        vertical-align: top;\n",
       "    }\n",
       "\n",
       "    .dataframe thead th {\n",
       "        text-align: right;\n",
       "    }\n",
       "</style>\n",
       "<table border=\"1\" class=\"dataframe\">\n",
       "  <thead>\n",
       "    <tr style=\"text-align: right;\">\n",
       "      <th></th>\n",
       "      <th>D-Ribose 5-Phosphate</th>\n",
       "      <th>CLASS2</th>\n",
       "    </tr>\n",
       "    <tr>\n",
       "      <th>name</th>\n",
       "      <th></th>\n",
       "      <th></th>\n",
       "    </tr>\n",
       "  </thead>\n",
       "  <tbody>\n",
       "    <tr>\n",
       "      <th>B46</th>\n",
       "      <td>1.500616e+08</td>\n",
       "      <td>1</td>\n",
       "    </tr>\n",
       "    <tr>\n",
       "      <th>B59</th>\n",
       "      <td>6.867684e+07</td>\n",
       "      <td>1</td>\n",
       "    </tr>\n",
       "    <tr>\n",
       "      <th>B60</th>\n",
       "      <td>5.250820e+07</td>\n",
       "      <td>1</td>\n",
       "    </tr>\n",
       "    <tr>\n",
       "      <th>B61</th>\n",
       "      <td>7.039699e+07</td>\n",
       "      <td>1</td>\n",
       "    </tr>\n",
       "    <tr>\n",
       "      <th>B62</th>\n",
       "      <td>1.007105e+08</td>\n",
       "      <td>1</td>\n",
       "    </tr>\n",
       "    <tr>\n",
       "      <th>B63</th>\n",
       "      <td>2.898887e+07</td>\n",
       "      <td>1</td>\n",
       "    </tr>\n",
       "    <tr>\n",
       "      <th>B64</th>\n",
       "      <td>2.171345e+07</td>\n",
       "      <td>1</td>\n",
       "    </tr>\n",
       "    <tr>\n",
       "      <th>B65</th>\n",
       "      <td>1.433695e+08</td>\n",
       "      <td>1</td>\n",
       "    </tr>\n",
       "    <tr>\n",
       "      <th>B67</th>\n",
       "      <td>2.652347e+07</td>\n",
       "      <td>1</td>\n",
       "    </tr>\n",
       "    <tr>\n",
       "      <th>B70</th>\n",
       "      <td>7.302718e+07</td>\n",
       "      <td>1</td>\n",
       "    </tr>\n",
       "    <tr>\n",
       "      <th>B71</th>\n",
       "      <td>5.170764e+07</td>\n",
       "      <td>1</td>\n",
       "    </tr>\n",
       "    <tr>\n",
       "      <th>B69</th>\n",
       "      <td>6.032326e+07</td>\n",
       "      <td>0</td>\n",
       "    </tr>\n",
       "    <tr>\n",
       "      <th>B72</th>\n",
       "      <td>8.152053e+07</td>\n",
       "      <td>0</td>\n",
       "    </tr>\n",
       "    <tr>\n",
       "      <th>B74</th>\n",
       "      <td>6.735955e+07</td>\n",
       "      <td>0</td>\n",
       "    </tr>\n",
       "    <tr>\n",
       "      <th>B76</th>\n",
       "      <td>4.665273e+07</td>\n",
       "      <td>0</td>\n",
       "    </tr>\n",
       "    <tr>\n",
       "      <th>B78</th>\n",
       "      <td>2.147972e+08</td>\n",
       "      <td>0</td>\n",
       "    </tr>\n",
       "    <tr>\n",
       "      <th>B80</th>\n",
       "      <td>2.552674e+08</td>\n",
       "      <td>0</td>\n",
       "    </tr>\n",
       "    <tr>\n",
       "      <th>B81</th>\n",
       "      <td>1.543191e+08</td>\n",
       "      <td>0</td>\n",
       "    </tr>\n",
       "    <tr>\n",
       "      <th>B82</th>\n",
       "      <td>3.088235e+08</td>\n",
       "      <td>0</td>\n",
       "    </tr>\n",
       "    <tr>\n",
       "      <th>B84</th>\n",
       "      <td>3.416628e+07</td>\n",
       "      <td>0</td>\n",
       "    </tr>\n",
       "    <tr>\n",
       "      <th>B86</th>\n",
       "      <td>1.590240e+08</td>\n",
       "      <td>0</td>\n",
       "    </tr>\n",
       "    <tr>\n",
       "      <th>B87</th>\n",
       "      <td>2.399025e+08</td>\n",
       "      <td>0</td>\n",
       "    </tr>\n",
       "    <tr>\n",
       "      <th>B88</th>\n",
       "      <td>1.750515e+08</td>\n",
       "      <td>0</td>\n",
       "    </tr>\n",
       "    <tr>\n",
       "      <th>B89</th>\n",
       "      <td>2.893133e+08</td>\n",
       "      <td>0</td>\n",
       "    </tr>\n",
       "    <tr>\n",
       "      <th>B92</th>\n",
       "      <td>8.275652e+07</td>\n",
       "      <td>0</td>\n",
       "    </tr>\n",
       "    <tr>\n",
       "      <th>B95</th>\n",
       "      <td>1.032740e+08</td>\n",
       "      <td>0</td>\n",
       "    </tr>\n",
       "    <tr>\n",
       "      <th>B96</th>\n",
       "      <td>1.340747e+08</td>\n",
       "      <td>0</td>\n",
       "    </tr>\n",
       "    <tr>\n",
       "      <th>B97</th>\n",
       "      <td>1.908662e+08</td>\n",
       "      <td>0</td>\n",
       "    </tr>\n",
       "  </tbody>\n",
       "</table>\n",
       "</div>"
      ],
      "text/plain": [
       "      D-Ribose 5-Phosphate  CLASS2\n",
       "name                              \n",
       "B46           1.500616e+08       1\n",
       "B59           6.867684e+07       1\n",
       "B60           5.250820e+07       1\n",
       "B61           7.039699e+07       1\n",
       "B62           1.007105e+08       1\n",
       "B63           2.898887e+07       1\n",
       "B64           2.171345e+07       1\n",
       "B65           1.433695e+08       1\n",
       "B67           2.652347e+07       1\n",
       "B70           7.302718e+07       1\n",
       "B71           5.170764e+07       1\n",
       "B69           6.032326e+07       0\n",
       "B72           8.152053e+07       0\n",
       "B74           6.735955e+07       0\n",
       "B76           4.665273e+07       0\n",
       "B78           2.147972e+08       0\n",
       "B80           2.552674e+08       0\n",
       "B81           1.543191e+08       0\n",
       "B82           3.088235e+08       0\n",
       "B84           3.416628e+07       0\n",
       "B86           1.590240e+08       0\n",
       "B87           2.399025e+08       0\n",
       "B88           1.750515e+08       0\n",
       "B89           2.893133e+08       0\n",
       "B92           8.275652e+07       0\n",
       "B95           1.032740e+08       0\n",
       "B96           1.340747e+08       0\n",
       "B97           1.908662e+08       0"
      ]
     },
     "execution_count": 4,
     "metadata": {},
     "output_type": "execute_result"
    }
   ],
   "source": [
    "shuju2_"
   ]
  },
  {
   "cell_type": "code",
   "execution_count": 5,
   "id": "f882009e",
   "metadata": {},
   "outputs": [],
   "source": [
    "FFS2 =shuju2_.drop(columns=['CLASS2'])"
   ]
  },
  {
   "cell_type": "code",
   "execution_count": 6,
   "id": "35dc5a96",
   "metadata": {},
   "outputs": [
    {
     "name": "stdout",
     "output_type": "stream",
     "text": [
      "<class 'pandas.core.frame.DataFrame'>\n",
      "Index: 28 entries, B46 to B97\n",
      "Data columns (total 1 columns):\n",
      " #   Column                Non-Null Count  Dtype  \n",
      "---  ------                --------------  -----  \n",
      " 0   D-Ribose 5-Phosphate  28 non-null     float64\n",
      "dtypes: float64(1)\n",
      "memory usage: 448.0+ bytes\n"
     ]
    }
   ],
   "source": [
    "FFS2.info()"
   ]
  },
  {
   "cell_type": "code",
   "execution_count": 7,
   "id": "dabff1fe",
   "metadata": {},
   "outputs": [],
   "source": [
    "target2 = shuju2_.CLASS2"
   ]
  },
  {
   "cell_type": "code",
   "execution_count": 8,
   "id": "d3208be6",
   "metadata": {},
   "outputs": [],
   "source": [
    "transfer = StandardScaler()"
   ]
  },
  {
   "cell_type": "code",
   "execution_count": 9,
   "id": "ff73f787",
   "metadata": {},
   "outputs": [],
   "source": [
    "tezheng2 = transfer.fit_transform(FFS2)"
   ]
  },
  {
   "cell_type": "code",
   "execution_count": 10,
   "id": "a7c5369a",
   "metadata": {},
   "outputs": [
    {
     "data": {
      "text/plain": [
       "array([[ 0.35958697],\n",
       "       [-0.64392727],\n",
       "       [-0.84329471],\n",
       "       [-0.62271694],\n",
       "       [-0.24893633],\n",
       "       [-1.13329971],\n",
       "       [-1.22300936],\n",
       "       [ 0.27707047],\n",
       "       [-1.16369933],\n",
       "       [-0.59028539],\n",
       "       [-0.85316599],\n",
       "       [-0.74693104],\n",
       "       [-0.48555823],\n",
       "       [-0.66017018],\n",
       "       [-0.9154956 ],\n",
       "       [ 1.15780964],\n",
       "       [ 1.65682696],\n",
       "       [ 0.41208507],\n",
       "       [ 2.31720066],\n",
       "       [-1.06945975],\n",
       "       [ 0.47009792],\n",
       "       [ 1.46737077],\n",
       "       [ 0.66772571],\n",
       "       [ 2.07663021],\n",
       "       [-0.47031783],\n",
       "       [-0.2173267 ],\n",
       "       [ 0.16246095],\n",
       "       [ 0.86272904]])"
      ]
     },
     "execution_count": 10,
     "metadata": {},
     "output_type": "execute_result"
    }
   ],
   "source": [
    "tezheng2"
   ]
  },
  {
   "cell_type": "code",
   "execution_count": 11,
   "id": "2a883f39",
   "metadata": {},
   "outputs": [],
   "source": [
    "sss2 = ShuffleSplit(n_splits=100, test_size=0.2,random_state=99)"
   ]
  },
  {
   "cell_type": "code",
   "execution_count": 12,
   "id": "42880164",
   "metadata": {},
   "outputs": [],
   "source": [
    "CCs = np.logspace(-3,3,1000)"
   ]
  },
  {
   "cell_type": "code",
   "execution_count": 13,
   "id": "06fc8770",
   "metadata": {},
   "outputs": [],
   "source": [
    "acc_=[]\n",
    "coeff_ = []\n",
    "for C_ in CCs:\n",
    "    LJ_2 = LogisticRegression(penalty='l2',C = C_, solver='liblinear', max_iter=10000)\n",
    "    LJ_2.fit(tezheng2, target2)\n",
    "    coeff_.append(LJ_2.coef_)\n",
    "    score = cross_val_score(LJ_2, tezheng2, target2, cv=sss2)\n",
    "    acc_.append(score.mean())"
   ]
  },
  {
   "cell_type": "code",
   "execution_count": 14,
   "id": "5c106178",
   "metadata": {},
   "outputs": [
    {
     "data": {
      "image/png": "[encoded data removed]",
      "text/plain": [
       "<Figure size 432x288 with 1 Axes>"
      ]
     },
     "metadata": {
      "needs_background": "light"
     },
     "output_type": "display_data"
    }
   ],
   "source": [
    "import matplotlib.pyplot as plt\n",
    "plt.plot(CCs, acc_)\n",
    "plt.xscale('log')\n",
    "plt.xlabel('C')\n",
    "plt.ylabel('acc')\n",
    "plt.show()"
   ]
  },
  {
   "cell_type": "code",
   "execution_count": 15,
   "id": "ce82e4b0",
   "metadata": {},
   "outputs": [
    {
     "data": {
      "image/png": "[encoded data removed]",
      "text/plain": [
       "<Figure size 432x288 with 1 Axes>"
      ]
     },
     "metadata": {
      "needs_background": "light"
     },
     "output_type": "display_data"
    }
   ],
   "source": [
    "coeff_ = np.array(coeff_).reshape(1000,1)\n",
    "plt.plot(CCs, coeff_)\n",
    "plt.xscale('log')\n",
    "plt.xlabel('C')\n",
    "plt.ylabel('Cofficients')\n",
    "plt.show()"
   ]
  },
  {
   "cell_type": "code",
   "execution_count": 16,
   "id": "dbac48b4",
   "metadata": {},
   "outputs": [
    {
     "data": {
      "text/plain": [
       "0"
      ]
     },
     "execution_count": 16,
     "metadata": {},
     "output_type": "execute_result"
    }
   ],
   "source": [
    "np.argmax(acc_)"
   ]
  },
  {
   "cell_type": "code",
   "execution_count": 17,
   "id": "83474c4e",
   "metadata": {},
   "outputs": [
    {
     "data": {
      "text/plain": [
       "0.001"
      ]
     },
     "execution_count": 17,
     "metadata": {},
     "output_type": "execute_result"
    }
   ],
   "source": [
    "CCs[0]"
   ]
  },
  {
   "cell_type": "code",
   "execution_count": 18,
   "id": "7cb4c3db",
   "metadata": {},
   "outputs": [],
   "source": [
    "LJ2=LogisticRegression(penalty='l2',C =0.001, solver='liblinear').fit(tezheng2, target2)"
   ]
  },
  {
   "cell_type": "code",
   "execution_count": 19,
   "id": "55daab39",
   "metadata": {},
   "outputs": [],
   "source": [
    " score2 = cross_val_score(LJ2, tezheng2, target2, cv=sss2)"
   ]
  },
  {
   "cell_type": "code",
   "execution_count": 20,
   "id": "6f7c85f7",
   "metadata": {},
   "outputs": [
    {
     "data": {
      "text/plain": [
       "array([0.66666667, 0.66666667, 0.66666667, 0.83333333, 0.33333333,\n",
       "       0.5       , 0.5       , 1.        , 0.5       , 0.66666667])"
      ]
     },
     "execution_count": 20,
     "metadata": {},
     "output_type": "execute_result"
    }
   ],
   "source": [
    " score2"
   ]
  },
  {
   "cell_type": "code",
   "execution_count": 21,
   "id": "aff85ee0",
   "metadata": {},
   "outputs": [
    {
     "data": {
      "text/plain": [
       "array([[-0.0066392]])"
      ]
     },
     "execution_count": 21,
     "metadata": {},
     "output_type": "execute_result"
    }
   ],
   "source": [
    "LJ2.coef_"
   ]
  },
  {
   "cell_type": "code",
   "execution_count": 22,
   "id": "c5630799",
   "metadata": {
    "scrolled": true
   },
   "outputs": [
    {
     "data": {
      "text/plain": [
       "0.6785714285714286"
      ]
     },
     "execution_count": 22,
     "metadata": {},
     "output_type": "execute_result"
    }
   ],
   "source": [
    "LJ2.score(tezheng2,target2)"
   ]
  },
  {
   "cell_type": "code",
   "execution_count": 92,
   "id": "f1ce3cad",
   "metadata": {},
   "outputs": [],
   "source": [
    "shuju23= pd.read_excel(\"IRIN-met-IDE-target-left.xlsx\",index_col=0)"
   ]
  },
  {
   "cell_type": "code",
   "execution_count": 93,
   "id": "892c8549",
   "metadata": {},
   "outputs": [],
   "source": [
    "shuju23_ =shuju23.copy()"
   ]
  },
  {
   "cell_type": "code",
   "execution_count": 94,
   "id": "424374d8",
   "metadata": {},
   "outputs": [
    {
     "data": {
      "text/html": [
       "<div>\n",
       "<style scoped>\n",
       "    .dataframe tbody tr th:only-of-type {\n",
       "        vertical-align: middle;\n",
       "    }\n",
       "\n",
       "    .dataframe tbody tr th {\n",
       "        vertical-align: top;\n",
       "    }\n",
       "\n",
       "    .dataframe thead th {\n",
       "        text-align: right;\n",
       "    }\n",
       "</style>\n",
       "<table border=\"1\" class=\"dataframe\">\n",
       "  <thead>\n",
       "    <tr style=\"text-align: right;\">\n",
       "      <th></th>\n",
       "      <th>L-TYROSINE</th>\n",
       "      <th>3,4-Dihydroxy-L-phenylalanine</th>\n",
       "      <th>Deoxycholic acid</th>\n",
       "      <th>CLASS2</th>\n",
       "    </tr>\n",
       "    <tr>\n",
       "      <th>Sample Name</th>\n",
       "      <th></th>\n",
       "      <th></th>\n",
       "      <th></th>\n",
       "      <th></th>\n",
       "    </tr>\n",
       "  </thead>\n",
       "  <tbody>\n",
       "    <tr>\n",
       "      <th>KX_Exp_1</th>\n",
       "      <td>524965098.4</td>\n",
       "      <td>2.970274e+05</td>\n",
       "      <td>1.326940e+06</td>\n",
       "      <td>NaN</td>\n",
       "    </tr>\n",
       "    <tr>\n",
       "      <th>KX_Exp_2</th>\n",
       "      <td>782244435.6</td>\n",
       "      <td>9.056174e+05</td>\n",
       "      <td>2.056896e+05</td>\n",
       "      <td>NaN</td>\n",
       "    </tr>\n",
       "    <tr>\n",
       "      <th>KX_Exp_3</th>\n",
       "      <td>758461805.0</td>\n",
       "      <td>9.762479e+05</td>\n",
       "      <td>2.370717e+05</td>\n",
       "      <td>NaN</td>\n",
       "    </tr>\n",
       "    <tr>\n",
       "      <th>KX_Exp_5</th>\n",
       "      <td>696973394.2</td>\n",
       "      <td>7.724102e+05</td>\n",
       "      <td>4.385878e+05</td>\n",
       "      <td>NaN</td>\n",
       "    </tr>\n",
       "    <tr>\n",
       "      <th>KX_Exp_6</th>\n",
       "      <td>645884153.1</td>\n",
       "      <td>8.546959e+05</td>\n",
       "      <td>3.214490e+05</td>\n",
       "      <td>NaN</td>\n",
       "    </tr>\n",
       "    <tr>\n",
       "      <th>KX_Exp_7</th>\n",
       "      <td>725669341.9</td>\n",
       "      <td>7.432774e+05</td>\n",
       "      <td>1.561901e+05</td>\n",
       "      <td>NaN</td>\n",
       "    </tr>\n",
       "    <tr>\n",
       "      <th>KX_Exp_8</th>\n",
       "      <td>774498915.9</td>\n",
       "      <td>1.252880e+06</td>\n",
       "      <td>1.443372e+05</td>\n",
       "      <td>NaN</td>\n",
       "    </tr>\n",
       "    <tr>\n",
       "      <th>KX_Exp_9</th>\n",
       "      <td>730325759.8</td>\n",
       "      <td>1.329349e+06</td>\n",
       "      <td>1.694410e+05</td>\n",
       "      <td>NaN</td>\n",
       "    </tr>\n",
       "    <tr>\n",
       "      <th>KX_Exp_10</th>\n",
       "      <td>338952488.5</td>\n",
       "      <td>5.576563e+05</td>\n",
       "      <td>3.939592e+05</td>\n",
       "      <td>NaN</td>\n",
       "    </tr>\n",
       "    <tr>\n",
       "      <th>KX_C_11</th>\n",
       "      <td>755590343.4</td>\n",
       "      <td>1.148069e+06</td>\n",
       "      <td>7.391028e+04</td>\n",
       "      <td>NaN</td>\n",
       "    </tr>\n",
       "    <tr>\n",
       "      <th>KX_C_12</th>\n",
       "      <td>855469841.2</td>\n",
       "      <td>9.361938e+05</td>\n",
       "      <td>6.833625e+04</td>\n",
       "      <td>NaN</td>\n",
       "    </tr>\n",
       "    <tr>\n",
       "      <th>KX_C_13</th>\n",
       "      <td>747348531.7</td>\n",
       "      <td>8.990833e+05</td>\n",
       "      <td>1.812938e+05</td>\n",
       "      <td>NaN</td>\n",
       "    </tr>\n",
       "    <tr>\n",
       "      <th>KY_C_15</th>\n",
       "      <td>741010695.3</td>\n",
       "      <td>1.008665e+06</td>\n",
       "      <td>3.067722e+04</td>\n",
       "      <td>NaN</td>\n",
       "    </tr>\n",
       "    <tr>\n",
       "      <th>KY_C_16</th>\n",
       "      <td>697553870.8</td>\n",
       "      <td>9.071010e+05</td>\n",
       "      <td>2.858778e+04</td>\n",
       "      <td>NaN</td>\n",
       "    </tr>\n",
       "    <tr>\n",
       "      <th>KY_C_17</th>\n",
       "      <td>707801758.7</td>\n",
       "      <td>1.506968e+06</td>\n",
       "      <td>1.324861e+04</td>\n",
       "      <td>NaN</td>\n",
       "    </tr>\n",
       "    <tr>\n",
       "      <th>KY_E_18</th>\n",
       "      <td>813512528.5</td>\n",
       "      <td>5.816620e+05</td>\n",
       "      <td>6.763514e+04</td>\n",
       "      <td>NaN</td>\n",
       "    </tr>\n",
       "    <tr>\n",
       "      <th>KY_E_20</th>\n",
       "      <td>628170384.8</td>\n",
       "      <td>1.380670e+06</td>\n",
       "      <td>2.789279e+04</td>\n",
       "      <td>NaN</td>\n",
       "    </tr>\n",
       "    <tr>\n",
       "      <th>KY_E_23</th>\n",
       "      <td>751320177.7</td>\n",
       "      <td>1.384656e+06</td>\n",
       "      <td>1.812833e+04</td>\n",
       "      <td>NaN</td>\n",
       "    </tr>\n",
       "    <tr>\n",
       "      <th>KY_E_24</th>\n",
       "      <td>812618911.3</td>\n",
       "      <td>6.428448e+05</td>\n",
       "      <td>4.741792e+04</td>\n",
       "      <td>NaN</td>\n",
       "    </tr>\n",
       "    <tr>\n",
       "      <th>KY_E_26</th>\n",
       "      <td>728870226.2</td>\n",
       "      <td>1.146595e+06</td>\n",
       "      <td>9.065699e+03</td>\n",
       "      <td>NaN</td>\n",
       "    </tr>\n",
       "    <tr>\n",
       "      <th>KY_E_27</th>\n",
       "      <td>796677971.8</td>\n",
       "      <td>7.614751e+05</td>\n",
       "      <td>2.789139e+04</td>\n",
       "      <td>NaN</td>\n",
       "    </tr>\n",
       "    <tr>\n",
       "      <th>KY_E_28</th>\n",
       "      <td>647072668.6</td>\n",
       "      <td>1.177200e+06</td>\n",
       "      <td>3.974555e+04</td>\n",
       "      <td>NaN</td>\n",
       "    </tr>\n",
       "    <tr>\n",
       "      <th>CX_E_29</th>\n",
       "      <td>632272590.1</td>\n",
       "      <td>8.852629e+05</td>\n",
       "      <td>3.249250e+05</td>\n",
       "      <td>NaN</td>\n",
       "    </tr>\n",
       "    <tr>\n",
       "      <th>CX_E_30</th>\n",
       "      <td>761168140.0</td>\n",
       "      <td>8.022759e+05</td>\n",
       "      <td>3.002735e+06</td>\n",
       "      <td>NaN</td>\n",
       "    </tr>\n",
       "    <tr>\n",
       "      <th>CX_E_31</th>\n",
       "      <td>651925199.9</td>\n",
       "      <td>8.670437e+05</td>\n",
       "      <td>1.701417e+05</td>\n",
       "      <td>NaN</td>\n",
       "    </tr>\n",
       "    <tr>\n",
       "      <th>CX_E_32</th>\n",
       "      <td>581887905.7</td>\n",
       "      <td>8.685127e+05</td>\n",
       "      <td>3.437770e+05</td>\n",
       "      <td>NaN</td>\n",
       "    </tr>\n",
       "    <tr>\n",
       "      <th>CX_E_33</th>\n",
       "      <td>591541561.7</td>\n",
       "      <td>6.617443e+05</td>\n",
       "      <td>2.810047e+05</td>\n",
       "      <td>NaN</td>\n",
       "    </tr>\n",
       "    <tr>\n",
       "      <th>CX_E_37</th>\n",
       "      <td>658552113.0</td>\n",
       "      <td>7.571257e+05</td>\n",
       "      <td>1.896715e+05</td>\n",
       "      <td>NaN</td>\n",
       "    </tr>\n",
       "    <tr>\n",
       "      <th>CX_E_38</th>\n",
       "      <td>728401226.7</td>\n",
       "      <td>8.637657e+05</td>\n",
       "      <td>2.593860e+05</td>\n",
       "      <td>NaN</td>\n",
       "    </tr>\n",
       "    <tr>\n",
       "      <th>CX_E_39</th>\n",
       "      <td>540467209.6</td>\n",
       "      <td>5.882204e+05</td>\n",
       "      <td>1.903511e+05</td>\n",
       "      <td>NaN</td>\n",
       "    </tr>\n",
       "    <tr>\n",
       "      <th>CX_E_40</th>\n",
       "      <td>808831117.3</td>\n",
       "      <td>6.107999e+05</td>\n",
       "      <td>5.250535e+05</td>\n",
       "      <td>NaN</td>\n",
       "    </tr>\n",
       "    <tr>\n",
       "      <th>CX_E_41</th>\n",
       "      <td>756057251.3</td>\n",
       "      <td>6.813972e+05</td>\n",
       "      <td>9.065098e+04</td>\n",
       "      <td>NaN</td>\n",
       "    </tr>\n",
       "    <tr>\n",
       "      <th>CX_C_34</th>\n",
       "      <td>766392954.1</td>\n",
       "      <td>9.478338e+05</td>\n",
       "      <td>2.356849e+05</td>\n",
       "      <td>NaN</td>\n",
       "    </tr>\n",
       "    <tr>\n",
       "      <th>CX_C_35</th>\n",
       "      <td>644468319.1</td>\n",
       "      <td>1.022086e+06</td>\n",
       "      <td>2.712582e+05</td>\n",
       "      <td>NaN</td>\n",
       "    </tr>\n",
       "    <tr>\n",
       "      <th>CX_C_36</th>\n",
       "      <td>690415476.3</td>\n",
       "      <td>6.766745e+05</td>\n",
       "      <td>5.250510e+05</td>\n",
       "      <td>NaN</td>\n",
       "    </tr>\n",
       "    <tr>\n",
       "      <th>CY_C_42</th>\n",
       "      <td>683468169.3</td>\n",
       "      <td>4.222411e+06</td>\n",
       "      <td>6.345654e+04</td>\n",
       "      <td>NaN</td>\n",
       "    </tr>\n",
       "    <tr>\n",
       "      <th>CY_C_43</th>\n",
       "      <td>835858217.1</td>\n",
       "      <td>1.125852e+06</td>\n",
       "      <td>2.454569e+05</td>\n",
       "      <td>NaN</td>\n",
       "    </tr>\n",
       "    <tr>\n",
       "      <th>CY_C_44</th>\n",
       "      <td>787456986.9</td>\n",
       "      <td>9.176223e+05</td>\n",
       "      <td>8.995139e+04</td>\n",
       "      <td>NaN</td>\n",
       "    </tr>\n",
       "    <tr>\n",
       "      <th>CY_E_45</th>\n",
       "      <td>822110479.8</td>\n",
       "      <td>7.673185e+05</td>\n",
       "      <td>6.631271e+05</td>\n",
       "      <td>NaN</td>\n",
       "    </tr>\n",
       "    <tr>\n",
       "      <th>CY_E_46</th>\n",
       "      <td>703249205.0</td>\n",
       "      <td>1.142957e+06</td>\n",
       "      <td>5.927000e+04</td>\n",
       "      <td>NaN</td>\n",
       "    </tr>\n",
       "    <tr>\n",
       "      <th>CY_E_47</th>\n",
       "      <td>707907503.5</td>\n",
       "      <td>1.007176e+06</td>\n",
       "      <td>1.108703e+05</td>\n",
       "      <td>NaN</td>\n",
       "    </tr>\n",
       "    <tr>\n",
       "      <th>CY_E_48</th>\n",
       "      <td>857572325.4</td>\n",
       "      <td>6.697487e+05</td>\n",
       "      <td>7.740097e+04</td>\n",
       "      <td>NaN</td>\n",
       "    </tr>\n",
       "    <tr>\n",
       "      <th>CY_E_ 49</th>\n",
       "      <td>538509881.3</td>\n",
       "      <td>1.391574e+06</td>\n",
       "      <td>7.391347e+04</td>\n",
       "      <td>NaN</td>\n",
       "    </tr>\n",
       "    <tr>\n",
       "      <th>CY_E_50</th>\n",
       "      <td>736325492.6</td>\n",
       "      <td>7.491048e+05</td>\n",
       "      <td>5.445838e+06</td>\n",
       "      <td>NaN</td>\n",
       "    </tr>\n",
       "    <tr>\n",
       "      <th>CY_E_51</th>\n",
       "      <td>383555230.2</td>\n",
       "      <td>2.390407e+06</td>\n",
       "      <td>1.994321e+05</td>\n",
       "      <td>NaN</td>\n",
       "    </tr>\n",
       "    <tr>\n",
       "      <th>CY_E_52</th>\n",
       "      <td>410163762.7</td>\n",
       "      <td>7.221893e+05</td>\n",
       "      <td>5.857250e+04</td>\n",
       "      <td>NaN</td>\n",
       "    </tr>\n",
       "    <tr>\n",
       "      <th>CY_E_53</th>\n",
       "      <td>444832511.5</td>\n",
       "      <td>5.434217e+05</td>\n",
       "      <td>5.299542e+04</td>\n",
       "      <td>NaN</td>\n",
       "    </tr>\n",
       "    <tr>\n",
       "      <th>CY_E_54</th>\n",
       "      <td>620713163.3</td>\n",
       "      <td>5.146783e+05</td>\n",
       "      <td>8.925806e+04</td>\n",
       "      <td>NaN</td>\n",
       "    </tr>\n",
       "  </tbody>\n",
       "</table>\n",
       "</div>"
      ],
      "text/plain": [
       "              L-TYROSINE  3,4-Dihydroxy-L-phenylalanine  Deoxycholic acid  \\\n",
       "Sample Name                                                                 \n",
       "KX_Exp_1     524965098.4                   2.970274e+05      1.326940e+06   \n",
       "KX_Exp_2     782244435.6                   9.056174e+05      2.056896e+05   \n",
       "KX_Exp_3     758461805.0                   9.762479e+05      2.370717e+05   \n",
       "KX_Exp_5     696973394.2                   7.724102e+05      4.385878e+05   \n",
       "KX_Exp_6     645884153.1                   8.546959e+05      3.214490e+05   \n",
       "KX_Exp_7     725669341.9                   7.432774e+05      1.561901e+05   \n",
       "KX_Exp_8     774498915.9                   1.252880e+06      1.443372e+05   \n",
       "KX_Exp_9     730325759.8                   1.329349e+06      1.694410e+05   \n",
       "KX_Exp_10    338952488.5                   5.576563e+05      3.939592e+05   \n",
       "KX_C_11      755590343.4                   1.148069e+06      7.391028e+04   \n",
       "KX_C_12      855469841.2                   9.361938e+05      6.833625e+04   \n",
       "KX_C_13      747348531.7                   8.990833e+05      1.812938e+05   \n",
       "KY_C_15      741010695.3                   1.008665e+06      3.067722e+04   \n",
       "KY_C_16      697553870.8                   9.071010e+05      2.858778e+04   \n",
       "KY_C_17      707801758.7                   1.506968e+06      1.324861e+04   \n",
       "KY_E_18      813512528.5                   5.816620e+05      6.763514e+04   \n",
       "KY_E_20      628170384.8                   1.380670e+06      2.789279e+04   \n",
       "KY_E_23      751320177.7                   1.384656e+06      1.812833e+04   \n",
       "KY_E_24      812618911.3                   6.428448e+05      4.741792e+04   \n",
       "KY_E_26      728870226.2                   1.146595e+06      9.065699e+03   \n",
       "KY_E_27      796677971.8                   7.614751e+05      2.789139e+04   \n",
       "KY_E_28      647072668.6                   1.177200e+06      3.974555e+04   \n",
       "CX_E_29      632272590.1                   8.852629e+05      3.249250e+05   \n",
       "CX_E_30      761168140.0                   8.022759e+05      3.002735e+06   \n",
       "CX_E_31      651925199.9                   8.670437e+05      1.701417e+05   \n",
       "CX_E_32      581887905.7                   8.685127e+05      3.437770e+05   \n",
       "CX_E_33      591541561.7                   6.617443e+05      2.810047e+05   \n",
       "CX_E_37      658552113.0                   7.571257e+05      1.896715e+05   \n",
       "CX_E_38      728401226.7                   8.637657e+05      2.593860e+05   \n",
       "CX_E_39      540467209.6                   5.882204e+05      1.903511e+05   \n",
       "CX_E_40      808831117.3                   6.107999e+05      5.250535e+05   \n",
       "CX_E_41      756057251.3                   6.813972e+05      9.065098e+04   \n",
       "CX_C_34      766392954.1                   9.478338e+05      2.356849e+05   \n",
       "CX_C_35      644468319.1                   1.022086e+06      2.712582e+05   \n",
       "CX_C_36      690415476.3                   6.766745e+05      5.250510e+05   \n",
       "CY_C_42      683468169.3                   4.222411e+06      6.345654e+04   \n",
       "CY_C_43      835858217.1                   1.125852e+06      2.454569e+05   \n",
       "CY_C_44      787456986.9                   9.176223e+05      8.995139e+04   \n",
       "CY_E_45      822110479.8                   7.673185e+05      6.631271e+05   \n",
       "CY_E_46      703249205.0                   1.142957e+06      5.927000e+04   \n",
       "CY_E_47      707907503.5                   1.007176e+06      1.108703e+05   \n",
       "CY_E_48      857572325.4                   6.697487e+05      7.740097e+04   \n",
       "CY_E_ 49     538509881.3                   1.391574e+06      7.391347e+04   \n",
       "CY_E_50      736325492.6                   7.491048e+05      5.445838e+06   \n",
       "CY_E_51      383555230.2                   2.390407e+06      1.994321e+05   \n",
       "CY_E_52      410163762.7                   7.221893e+05      5.857250e+04   \n",
       "CY_E_53      444832511.5                   5.434217e+05      5.299542e+04   \n",
       "CY_E_54      620713163.3                   5.146783e+05      8.925806e+04   \n",
       "\n",
       "             CLASS2  \n",
       "Sample Name          \n",
       "KX_Exp_1        NaN  \n",
       "KX_Exp_2        NaN  \n",
       "KX_Exp_3        NaN  \n",
       "KX_Exp_5        NaN  \n",
       "KX_Exp_6        NaN  \n",
       "KX_Exp_7        NaN  \n",
       "KX_Exp_8        NaN  \n",
       "KX_Exp_9        NaN  \n",
       "KX_Exp_10       NaN  \n",
       "KX_C_11         NaN  \n",
       "KX_C_12         NaN  \n",
       "KX_C_13         NaN  \n",
       "KY_C_15         NaN  \n",
       "KY_C_16         NaN  \n",
       "KY_C_17         NaN  \n",
       "KY_E_18         NaN  \n",
       "KY_E_20         NaN  \n",
       "KY_E_23         NaN  \n",
       "KY_E_24         NaN  \n",
       "KY_E_26         NaN  \n",
       "KY_E_27         NaN  \n",
       "KY_E_28         NaN  \n",
       "CX_E_29         NaN  \n",
       "CX_E_30         NaN  \n",
       "CX_E_31         NaN  \n",
       "CX_E_32         NaN  \n",
       "CX_E_33         NaN  \n",
       "CX_E_37         NaN  \n",
       "CX_E_38         NaN  \n",
       "CX_E_39         NaN  \n",
       "CX_E_40         NaN  \n",
       "CX_E_41         NaN  \n",
       "CX_C_34         NaN  \n",
       "CX_C_35         NaN  \n",
       "CX_C_36         NaN  \n",
       "CY_C_42         NaN  \n",
       "CY_C_43         NaN  \n",
       "CY_C_44         NaN  \n",
       "CY_E_45         NaN  \n",
       "CY_E_46         NaN  \n",
       "CY_E_47         NaN  \n",
       "CY_E_48         NaN  \n",
       "CY_E_ 49        NaN  \n",
       "CY_E_50         NaN  \n",
       "CY_E_51         NaN  \n",
       "CY_E_52         NaN  \n",
       "CY_E_53         NaN  \n",
       "CY_E_54         NaN  "
      ]
     },
     "execution_count": 94,
     "metadata": {},
     "output_type": "execute_result"
    }
   ],
   "source": [
    "shuju23_"
   ]
  },
  {
   "cell_type": "code",
   "execution_count": 95,
   "id": "4675d013",
   "metadata": {},
   "outputs": [],
   "source": [
    "FFS23 =shuju23_.drop(columns=['CLASS2'])"
   ]
  },
  {
   "cell_type": "code",
   "execution_count": 96,
   "id": "e2af41ce",
   "metadata": {},
   "outputs": [
    {
     "name": "stdout",
     "output_type": "stream",
     "text": [
      "<class 'pandas.core.frame.DataFrame'>\n",
      "Index: 48 entries, KX_Exp_1 to CY_E_54\n",
      "Data columns (total 3 columns):\n",
      " #   Column                         Non-Null Count  Dtype  \n",
      "---  ------                         --------------  -----  \n",
      " 0   L-TYROSINE                     48 non-null     float64\n",
      " 1   3,4-Dihydroxy-L-phenylalanine  48 non-null     float64\n",
      " 2   Deoxycholic acid               48 non-null     float64\n",
      "dtypes: float64(3)\n",
      "memory usage: 1.5+ KB\n"
     ]
    }
   ],
   "source": [
    "FFS23.info()"
   ]
  },
  {
   "cell_type": "code",
   "execution_count": 97,
   "id": "30c42b00",
   "metadata": {},
   "outputs": [],
   "source": [
    "target23 = shuju23_.CLASS2"
   ]
  },
  {
   "cell_type": "code",
   "execution_count": 98,
   "id": "d66dbc1b",
   "metadata": {},
   "outputs": [],
   "source": [
    "transfer = StandardScaler()"
   ]
  },
  {
   "cell_type": "code",
   "execution_count": 99,
   "id": "e6fb86a5",
   "metadata": {},
   "outputs": [],
   "source": [
    "tezheng23 = transfer.fit_transform(FFS23)"
   ]
  },
  {
   "cell_type": "code",
   "execution_count": 100,
   "id": "dd1ffdfd",
   "metadata": {},
   "outputs": [
    {
     "data": {
      "text/plain": [
       "array([[-1.35899299, -1.19882922,  1.10166994],\n",
       "       [ 0.7907762 , -0.1474831 , -0.18654531],\n",
       "       [ 0.5920538 , -0.02546819, -0.15049013],\n",
       "       [ 0.07827025, -0.37760011,  0.08103365],\n",
       "       [-0.34862013, -0.2354505 , -0.05354816],\n",
       "       [ 0.31804724, -0.42792737, -0.24341568],\n",
       "       [ 0.72605635,  0.45241715, -0.2570336 ],\n",
       "       [ 0.35695524,  0.58451804, -0.22819166],\n",
       "       [-2.91327318, -0.74858986,  0.02975942],\n",
       "       [ 0.56806051,  0.27135455, -0.33794779],\n",
       "       [ 1.40263148, -0.09466199, -0.34435184],\n",
       "       [ 0.49919375, -0.15877082, -0.2145739 ],\n",
       "       [ 0.44623619,  0.03053257, -0.38761866],\n",
       "       [ 0.08312059, -0.14492023, -0.39001924],\n",
       "       [ 0.16874967,  0.89135693, -0.40764255],\n",
       "       [ 1.05204546, -0.70711967, -0.34515736],\n",
       "       [-0.49663246,  0.67317508, -0.39081772],\n",
       "       [ 0.53237995,  0.6800609 , -0.4020362 ],\n",
       "       [ 1.04457859, -0.60142578, -0.36838511],\n",
       "       [ 0.34479312,  0.26880849, -0.41244835],\n",
       "       [ 0.91137963, -0.39649058, -0.39081933],\n",
       "       [-0.33868916,  0.32167864, -0.37719997],\n",
       "       [-0.46235534, -0.18264569, -0.0495546 ],\n",
       "       [ 0.61466734, -0.32600678,  3.02700647],\n",
       "       [-0.29814249, -0.21411957, -0.22738663],\n",
       "       [-0.88335861, -0.2115819 , -0.0278954 ],\n",
       "       [-0.8026948 , -0.56877663, -0.10001501],\n",
       "       [-0.24276947, -0.40400417, -0.20494859],\n",
       "       [ 0.34087427, -0.21978243, -0.12485302],\n",
       "       [-1.22946078, -0.6957901 , -0.20416782],\n",
       "       [ 1.01292863, -0.65678378,  0.18037492],\n",
       "       [ 0.57196188, -0.53482609, -0.31871425],\n",
       "       [ 0.65832473, -0.07455376, -0.15208343],\n",
       "       [-0.36045053,  0.05371838, -0.11121288],\n",
       "       [ 0.02347374, -0.54298458,  0.18037203],\n",
       "       [-0.03457642,  5.582315  , -0.3499582 ],\n",
       "       [ 1.23876109,  0.2329743 , -0.14085621],\n",
       "       [ 0.83433112, -0.12674455, -0.31951801],\n",
       "       [ 1.12388804, -0.38639607,  0.339009  ],\n",
       "       [ 0.13070954,  0.26252432, -0.35476815],\n",
       "       [ 0.16963325,  0.02796074, -0.29548409],\n",
       "       [ 1.42019937, -0.55494903, -0.3339373 ],\n",
       "       [-1.24581578,  0.69201235, -0.33794412],\n",
       "       [ 0.40708768, -0.41786041,  5.83391058],\n",
       "       [-2.54058254,  2.41750779, -0.1937346 ],\n",
       "       [-2.31824754, -0.46435716, -0.35556951],\n",
       "       [-2.02856315, -0.77318032, -0.36197707],\n",
       "       [-0.55894335, -0.82283478, -0.32031458]])"
      ]
     },
     "execution_count": 100,
     "metadata": {},
     "output_type": "execute_result"
    }
   ],
   "source": [
    "tezheng23"
   ]
  },
  {
   "cell_type": "code",
   "execution_count": 102,
   "id": "8133cff7",
   "metadata": {},
   "outputs": [
    {
     "data": {
      "text/plain": [
       "array([0, 1, 1, 1, 0, 1, 1, 1, 0, 1, 1, 1, 1, 1, 1, 1, 1, 1, 1, 1, 1, 1,\n",
       "       0, 0, 0, 0, 0, 0, 1, 0, 1, 1, 1, 0, 0, 1, 1, 1, 1, 1, 1, 1, 0, 0,\n",
       "       0, 0, 0, 0], dtype=int64)"
      ]
     },
     "execution_count": 102,
     "metadata": {},
     "output_type": "execute_result"
    }
   ],
   "source": [
    "test_predict = LJ2.predict(tezheng23)\n",
    "test_predict"
   ]
  },
  {
   "cell_type": "code",
   "execution_count": null,
   "id": "22427e12",
   "metadata": {},
   "outputs": [],
   "source": []
  },
  {
   "cell_type": "code",
   "execution_count": null,
   "id": "ee3ed18f",
   "metadata": {},
   "outputs": [],
   "source": []
  }
 ],
 "metadata": {
  "kernelspec": {
   "display_name": "Python 3 (ipykernel)",
   "language": "python",
   "name": "python3"
  },
  "language_info": {
   "codemirror_mode": {
    "name": "ipython",
    "version": 3
   },
   "file_extension": ".py",
   "mimetype": "text/x-python",
   "name": "python",
   "nbconvert_exporter": "python",
   "pygments_lexer": "ipython3",
   "version": "3.9.12"
  }
 },
 "nbformat": 4,
 "nbformat_minor": 5
}
