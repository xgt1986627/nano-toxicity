{
 "cells": [
  {
   "cell_type": "code",
   "execution_count": 1,
   "id": "47aab1b4",
   "metadata": {},
   "outputs": [],
   "source": [
    "import numpy as np\n",
    "import pandas as pd\n",
    "from sklearn.preprocessing import StandardScaler\n",
    "from sklearn.linear_model import LinearRegression, Lasso, Ridge, ElasticNet\n",
    "from sklearn.linear_model import LogisticRegression\n",
    "from sklearn.model_selection import KFold,ShuffleSplit,cross_val_score"
   ]
  },
  {
   "cell_type": "code",
   "execution_count": 2,
   "id": "36fab334",
   "metadata": {},
   "outputs": [],
   "source": [
    "shuju3= pd.read_excel(\"LIPIRIN_TOP30% 1+_identify.xlsx\",index_col=0)"
   ]
  },
  {
   "cell_type": "code",
   "execution_count": 3,
   "id": "95fd6970",
   "metadata": {},
   "outputs": [],
   "source": [
    "shuju3_ =shuju3.copy()"
   ]
  },
  {
   "cell_type": "code",
   "execution_count": 4,
   "id": "d1575fec",
   "metadata": {},
   "outputs": [
    {
     "data": {
      "text/html": [
       "<div>\n",
       "<style scoped>\n",
       "    .dataframe tbody tr th:only-of-type {\n",
       "        vertical-align: middle;\n",
       "    }\n",
       "\n",
       "    .dataframe tbody tr th {\n",
       "        vertical-align: top;\n",
       "    }\n",
       "\n",
       "    .dataframe thead th {\n",
       "        text-align: right;\n",
       "    }\n",
       "</style>\n",
       "<table border=\"1\" class=\"dataframe\">\n",
       "  <thead>\n",
       "    <tr style=\"text-align: right;\">\n",
       "      <th></th>\n",
       "      <th>CLASS2</th>\n",
       "      <th>Hypoxanthine</th>\n",
       "    </tr>\n",
       "    <tr>\n",
       "      <th>MetaboName</th>\n",
       "      <th></th>\n",
       "      <th></th>\n",
       "    </tr>\n",
       "  </thead>\n",
       "  <tbody>\n",
       "    <tr>\n",
       "      <th>B60</th>\n",
       "      <td>1</td>\n",
       "      <td>1.780298e+07</td>\n",
       "    </tr>\n",
       "    <tr>\n",
       "      <th>B63</th>\n",
       "      <td>1</td>\n",
       "      <td>1.586566e+07</td>\n",
       "    </tr>\n",
       "    <tr>\n",
       "      <th>B64</th>\n",
       "      <td>1</td>\n",
       "      <td>2.267567e+07</td>\n",
       "    </tr>\n",
       "    <tr>\n",
       "      <th>B65</th>\n",
       "      <td>1</td>\n",
       "      <td>7.030324e+09</td>\n",
       "    </tr>\n",
       "    <tr>\n",
       "      <th>B67</th>\n",
       "      <td>1</td>\n",
       "      <td>2.816587e+07</td>\n",
       "    </tr>\n",
       "    <tr>\n",
       "      <th>B75</th>\n",
       "      <td>1</td>\n",
       "      <td>1.740545e+07</td>\n",
       "    </tr>\n",
       "    <tr>\n",
       "      <th>B77</th>\n",
       "      <td>1</td>\n",
       "      <td>2.279251e+07</td>\n",
       "    </tr>\n",
       "    <tr>\n",
       "      <th>B83</th>\n",
       "      <td>1</td>\n",
       "      <td>7.824715e+07</td>\n",
       "    </tr>\n",
       "    <tr>\n",
       "      <th>B85</th>\n",
       "      <td>1</td>\n",
       "      <td>5.671875e+09</td>\n",
       "    </tr>\n",
       "    <tr>\n",
       "      <th>B90</th>\n",
       "      <td>1</td>\n",
       "      <td>2.940433e+09</td>\n",
       "    </tr>\n",
       "    <tr>\n",
       "      <th>B98</th>\n",
       "      <td>1</td>\n",
       "      <td>2.991771e+09</td>\n",
       "    </tr>\n",
       "    <tr>\n",
       "      <th>B46</th>\n",
       "      <td>0</td>\n",
       "      <td>1.595924e+10</td>\n",
       "    </tr>\n",
       "    <tr>\n",
       "      <th>B59</th>\n",
       "      <td>0</td>\n",
       "      <td>5.711871e+07</td>\n",
       "    </tr>\n",
       "    <tr>\n",
       "      <th>B62</th>\n",
       "      <td>0</td>\n",
       "      <td>7.448535e+09</td>\n",
       "    </tr>\n",
       "    <tr>\n",
       "      <th>B74</th>\n",
       "      <td>0</td>\n",
       "      <td>1.789717e+07</td>\n",
       "    </tr>\n",
       "    <tr>\n",
       "      <th>B76</th>\n",
       "      <td>0</td>\n",
       "      <td>8.952675e+07</td>\n",
       "    </tr>\n",
       "    <tr>\n",
       "      <th>B80</th>\n",
       "      <td>0</td>\n",
       "      <td>9.259466e+09</td>\n",
       "    </tr>\n",
       "    <tr>\n",
       "      <th>B82</th>\n",
       "      <td>0</td>\n",
       "      <td>6.770671e+09</td>\n",
       "    </tr>\n",
       "    <tr>\n",
       "      <th>B88</th>\n",
       "      <td>0</td>\n",
       "      <td>1.455464e+10</td>\n",
       "    </tr>\n",
       "    <tr>\n",
       "      <th>B92</th>\n",
       "      <td>0</td>\n",
       "      <td>9.172512e+09</td>\n",
       "    </tr>\n",
       "    <tr>\n",
       "      <th>B96</th>\n",
       "      <td>0</td>\n",
       "      <td>3.819459e+09</td>\n",
       "    </tr>\n",
       "    <tr>\n",
       "      <th>B97</th>\n",
       "      <td>0</td>\n",
       "      <td>6.511077e+09</td>\n",
       "    </tr>\n",
       "  </tbody>\n",
       "</table>\n",
       "</div>"
      ],
      "text/plain": [
       "            CLASS2  Hypoxanthine\n",
       "MetaboName                      \n",
       "B60              1  1.780298e+07\n",
       "B63              1  1.586566e+07\n",
       "B64              1  2.267567e+07\n",
       "B65              1  7.030324e+09\n",
       "B67              1  2.816587e+07\n",
       "B75              1  1.740545e+07\n",
       "B77              1  2.279251e+07\n",
       "B83              1  7.824715e+07\n",
       "B85              1  5.671875e+09\n",
       "B90              1  2.940433e+09\n",
       "B98              1  2.991771e+09\n",
       "B46              0  1.595924e+10\n",
       "B59              0  5.711871e+07\n",
       "B62              0  7.448535e+09\n",
       "B74              0  1.789717e+07\n",
       "B76              0  8.952675e+07\n",
       "B80              0  9.259466e+09\n",
       "B82              0  6.770671e+09\n",
       "B88              0  1.455464e+10\n",
       "B92              0  9.172512e+09\n",
       "B96              0  3.819459e+09\n",
       "B97              0  6.511077e+09"
      ]
     },
     "execution_count": 4,
     "metadata": {},
     "output_type": "execute_result"
    }
   ],
   "source": [
    "shuju3_"
   ]
  },
  {
   "cell_type": "code",
   "execution_count": 5,
   "id": "6d8746a5",
   "metadata": {},
   "outputs": [],
   "source": [
    "FFS3 =shuju3_.drop(columns=['CLASS2'])"
   ]
  },
  {
   "cell_type": "code",
   "execution_count": 6,
   "id": "62d9b237",
   "metadata": {},
   "outputs": [
    {
     "name": "stdout",
     "output_type": "stream",
     "text": [
      "<class 'pandas.core.frame.DataFrame'>\n",
      "Index: 22 entries, B60 to B97\n",
      "Data columns (total 1 columns):\n",
      " #   Column        Non-Null Count  Dtype  \n",
      "---  ------        --------------  -----  \n",
      " 0   Hypoxanthine  22 non-null     float64\n",
      "dtypes: float64(1)\n",
      "memory usage: 352.0+ bytes\n"
     ]
    }
   ],
   "source": [
    "FFS3.info()"
   ]
  },
  {
   "cell_type": "code",
   "execution_count": 7,
   "id": "a0091b2a",
   "metadata": {},
   "outputs": [],
   "source": [
    "target3 = shuju3_.CLASS2"
   ]
  },
  {
   "cell_type": "code",
   "execution_count": 8,
   "id": "b4ddbe78",
   "metadata": {},
   "outputs": [],
   "source": [
    "transfer = StandardScaler()"
   ]
  },
  {
   "cell_type": "code",
   "execution_count": 9,
   "id": "940d35ff",
   "metadata": {},
   "outputs": [],
   "source": [
    "tezheng3 = transfer.fit_transform(FFS3)"
   ]
  },
  {
   "cell_type": "code",
   "execution_count": 10,
   "id": "02907320",
   "metadata": {},
   "outputs": [
    {
     "data": {
      "text/plain": [
       "array([[-0.87381382],\n",
       "       [-0.87421817],\n",
       "       [-0.87279682],\n",
       "       [ 0.5898071 ],\n",
       "       [-0.87165093],\n",
       "       [-0.87389679],\n",
       "       [-0.87277243],\n",
       "       [-0.86119819],\n",
       "       [ 0.30627793],\n",
       "       [-0.26381599],\n",
       "       [-0.25310097],\n",
       "       [ 2.45340932],\n",
       "       [-0.86560803],\n",
       "       [ 0.67709419],\n",
       "       [-0.87379416],\n",
       "       [-0.85884397],\n",
       "       [ 1.05506337],\n",
       "       [ 0.53561349],\n",
       "       [ 2.16024747],\n",
       "       [ 1.03691468],\n",
       "       [-0.08034965],\n",
       "       [ 0.48143237]])"
      ]
     },
     "execution_count": 10,
     "metadata": {},
     "output_type": "execute_result"
    }
   ],
   "source": [
    "tezheng3"
   ]
  },
  {
   "cell_type": "code",
   "execution_count": 11,
   "id": "bb02ea09",
   "metadata": {},
   "outputs": [],
   "source": [
    "sss3 = ShuffleSplit(n_splits=10, test_size=0.2,random_state=99)"
   ]
  },
  {
   "cell_type": "code",
   "execution_count": 12,
   "id": "ef0536bb",
   "metadata": {},
   "outputs": [],
   "source": [
    "from sklearn.model_selection import GridSearchCV,RandomizedSearchCV\n",
    "from sklearn.svm import SVC"
   ]
  },
  {
   "cell_type": "code",
   "execution_count": 13,
   "id": "58258856",
   "metadata": {},
   "outputs": [],
   "source": [
    "CCs2 = np.logspace(-3,3,1000)"
   ]
  },
  {
   "cell_type": "code",
   "execution_count": 14,
   "id": "3ce423e1",
   "metadata": {},
   "outputs": [],
   "source": [
    "param_distributions={'C': np.logspace(-3,3,1000),'gamma': np.logspace(-3,3,200), 'kernel': ['linear', 'rbf']}"
   ]
  },
  {
   "cell_type": "code",
   "execution_count": 15,
   "id": "a0425778",
   "metadata": {},
   "outputs": [],
   "source": [
    "svc_clf = SVC()"
   ]
  },
  {
   "cell_type": "code",
   "execution_count": 16,
   "id": "d6af4298",
   "metadata": {},
   "outputs": [],
   "source": [
    "random_search =RandomizedSearchCV(svc_clf, param_distributions, cv=sss3, n_iter=20000)"
   ]
  },
  {
   "cell_type": "code",
   "execution_count": 17,
   "id": "e032f1a9",
   "metadata": {},
   "outputs": [
    {
     "data": {
      "text/plain": [
       "RandomizedSearchCV(cv=ShuffleSplit(n_splits=10, random_state=99, test_size=0.2, train_size=None),\n",
       "                   estimator=SVC(), n_iter=20000,\n",
       "                   param_distributions={'C': array([1.00000000e-03, 1.01392541e-03, 1.02804473e-03, 1.04236067e-03,\n",
       "       1.05687597e-03, 1.07159340e-03, 1.08651577e-03, 1.10164595e-03,\n",
       "       1.11698682e-03, 1.13254132e-03, 1.14831241e-03, 1.16430313e-03,\n",
       "       1.18051653e-03,...\n",
       "       2.02550194e+02, 2.17111795e+02, 2.32720248e+02, 2.49450814e+02,\n",
       "       2.67384162e+02, 2.86606762e+02, 3.07211300e+02, 3.29297126e+02,\n",
       "       3.52970730e+02, 3.78346262e+02, 4.05546074e+02, 4.34701316e+02,\n",
       "       4.65952567e+02, 4.99450512e+02, 5.35356668e+02, 5.73844165e+02,\n",
       "       6.15098579e+02, 6.59318827e+02, 7.06718127e+02, 7.57525026e+02,\n",
       "       8.11984499e+02, 8.70359136e+02, 9.32930403e+02, 1.00000000e+03]),\n",
       "                                        'kernel': ['linear', 'rbf']})"
      ]
     },
     "execution_count": 17,
     "metadata": {},
     "output_type": "execute_result"
    }
   ],
   "source": [
    "random_search.fit(tezheng3, target3)"
   ]
  },
  {
   "cell_type": "code",
   "execution_count": 18,
   "id": "f6c2eaac",
   "metadata": {},
   "outputs": [
    {
     "data": {
      "text/plain": [
       "{'kernel': 'rbf', 'gamma': 1000.0, 'C': 21.395888713434214}"
      ]
     },
     "execution_count": 18,
     "metadata": {},
     "output_type": "execute_result"
    }
   ],
   "source": [
    "random_search.best_params_"
   ]
  },
  {
   "cell_type": "code",
   "execution_count": 19,
   "id": "ec2b1145",
   "metadata": {},
   "outputs": [
    {
     "data": {
      "text/plain": [
       "0.78"
      ]
     },
     "execution_count": 19,
     "metadata": {},
     "output_type": "execute_result"
    }
   ],
   "source": [
    "random_search.best_score_"
   ]
  },
  {
   "cell_type": "code",
   "execution_count": 20,
   "id": "dbf87514",
   "metadata": {},
   "outputs": [
    {
     "data": {
      "text/plain": [
       "SVC(C=50.431594871713585, gamma=0.7316807143427192)"
      ]
     },
     "execution_count": 20,
     "metadata": {},
     "output_type": "execute_result"
    }
   ],
   "source": [
    "random_search.best_estimator_"
   ]
  },
  {
   "cell_type": "code",
   "execution_count": 21,
   "id": "3bc1f382",
   "metadata": {},
   "outputs": [],
   "source": [
    "SVC3=SVC(C=50.431594871713585,kernel='rbf',gamma=0.7316807143427192)"
   ]
  },
  {
   "cell_type": "code",
   "execution_count": 22,
   "id": "874359e7",
   "metadata": {},
   "outputs": [
    {
     "data": {
      "text/plain": [
       "SVC(C=50.431594871713585, gamma=0.7316807143427192)"
      ]
     },
     "execution_count": 22,
     "metadata": {},
     "output_type": "execute_result"
    }
   ],
   "source": [
    "SVC3.fit(tezheng3, target3)"
   ]
  },
  {
   "cell_type": "code",
   "execution_count": 23,
   "id": "bbc4efba",
   "metadata": {},
   "outputs": [
    {
     "data": {
      "text/plain": [
       "0.9565217391304348"
      ]
     },
     "execution_count": 23,
     "metadata": {},
     "output_type": "execute_result"
    }
   ],
   "source": [
    "SVC3.score(tezheng3, target3)"
   ]
  },
  {
   "cell_type": "code",
   "execution_count": 24,
   "id": "a6c0cc1b",
   "metadata": {},
   "outputs": [
    {
     "ename": "AttributeError",
     "evalue": "coef_ is only available when using a linear kernel",
     "output_type": "error",
     "traceback": [
      "\u001b[1;31m---------------------------------------------------------------------------\u001b[0m",
      "\u001b[1;31mAttributeError\u001b[0m                            Traceback (most recent call last)",
      "Input \u001b[1;32mIn [24]\u001b[0m, in \u001b[0;36m<cell line: 1>\u001b[1;34m()\u001b[0m\n\u001b[1;32m----> 1\u001b[0m \u001b[43mSVC3\u001b[49m\u001b[38;5;241;43m.\u001b[39;49m\u001b[43mcoef_\u001b[49m\n",
      "File \u001b[1;32m~\\anaconda3\\lib\\site-packages\\sklearn\\svm\\_base.py:637\u001b[0m, in \u001b[0;36mBaseLibSVM.coef_\u001b[1;34m(self)\u001b[0m\n\u001b[0;32m    630\u001b[0m \u001b[38;5;124;03m\"\"\"Weights assigned to the features when `kernel=\"linear\"`.\u001b[39;00m\n\u001b[0;32m    631\u001b[0m \n\u001b[0;32m    632\u001b[0m \u001b[38;5;124;03mReturns\u001b[39;00m\n\u001b[0;32m    633\u001b[0m \u001b[38;5;124;03m-------\u001b[39;00m\n\u001b[0;32m    634\u001b[0m \u001b[38;5;124;03mndarray of shape (n_features, n_classes)\u001b[39;00m\n\u001b[0;32m    635\u001b[0m \u001b[38;5;124;03m\"\"\"\u001b[39;00m\n\u001b[0;32m    636\u001b[0m \u001b[38;5;28;01mif\u001b[39;00m \u001b[38;5;28mself\u001b[39m\u001b[38;5;241m.\u001b[39mkernel \u001b[38;5;241m!=\u001b[39m \u001b[38;5;124m\"\u001b[39m\u001b[38;5;124mlinear\u001b[39m\u001b[38;5;124m\"\u001b[39m:\n\u001b[1;32m--> 637\u001b[0m     \u001b[38;5;28;01mraise\u001b[39;00m \u001b[38;5;167;01mAttributeError\u001b[39;00m(\u001b[38;5;124m\"\u001b[39m\u001b[38;5;124mcoef_ is only available when using a linear kernel\u001b[39m\u001b[38;5;124m\"\u001b[39m)\n\u001b[0;32m    639\u001b[0m coef \u001b[38;5;241m=\u001b[39m \u001b[38;5;28mself\u001b[39m\u001b[38;5;241m.\u001b[39m_get_coef()\n\u001b[0;32m    641\u001b[0m \u001b[38;5;66;03m# coef_ being a read-only property, it's better to mark the value as\u001b[39;00m\n\u001b[0;32m    642\u001b[0m \u001b[38;5;66;03m# immutable to avoid hiding potential bugs for the unsuspecting user.\u001b[39;00m\n",
      "\u001b[1;31mAttributeError\u001b[0m: coef_ is only available when using a linear kernel"
     ]
    }
   ],
   "source": [
    "SVC3.coef_"
   ]
  },
  {
   "cell_type": "code",
   "execution_count": 32,
   "id": "f0550431",
   "metadata": {},
   "outputs": [],
   "source": [
    "shuju23= pd.read_excel(\"LIPIRIN-Top30%-IDE-Target-1+.xlsx\",index_col=0)"
   ]
  },
  {
   "cell_type": "code",
   "execution_count": 33,
   "id": "8e5c53ec",
   "metadata": {},
   "outputs": [],
   "source": [
    "shuju23_ =shuju23.copy()"
   ]
  },
  {
   "cell_type": "code",
   "execution_count": 34,
   "id": "3a8e01e1",
   "metadata": {},
   "outputs": [
    {
     "data": {
      "text/html": [
       "<div>\n",
       "<style scoped>\n",
       "    .dataframe tbody tr th:only-of-type {\n",
       "        vertical-align: middle;\n",
       "    }\n",
       "\n",
       "    .dataframe tbody tr th {\n",
       "        vertical-align: top;\n",
       "    }\n",
       "\n",
       "    .dataframe thead th {\n",
       "        text-align: right;\n",
       "    }\n",
       "</style>\n",
       "<table border=\"1\" class=\"dataframe\">\n",
       "  <thead>\n",
       "    <tr style=\"text-align: right;\">\n",
       "      <th></th>\n",
       "      <th>Lithocholic acid  sulfate</th>\n",
       "      <th>CLASS2</th>\n",
       "    </tr>\n",
       "    <tr>\n",
       "      <th>Name</th>\n",
       "      <th></th>\n",
       "      <th></th>\n",
       "    </tr>\n",
       "  </thead>\n",
       "  <tbody>\n",
       "    <tr>\n",
       "      <th>KXExp1</th>\n",
       "      <td>22612.343890</td>\n",
       "      <td>NaN</td>\n",
       "    </tr>\n",
       "    <tr>\n",
       "      <th>KXExp2</th>\n",
       "      <td>40279.004780</td>\n",
       "      <td>NaN</td>\n",
       "    </tr>\n",
       "    <tr>\n",
       "      <th>KXExp3</th>\n",
       "      <td>65010.569810</td>\n",
       "      <td>NaN</td>\n",
       "    </tr>\n",
       "    <tr>\n",
       "      <th>KXExp4</th>\n",
       "      <td>77731.920000</td>\n",
       "      <td>NaN</td>\n",
       "    </tr>\n",
       "    <tr>\n",
       "      <th>KXExp5</th>\n",
       "      <td>28266.384000</td>\n",
       "      <td>NaN</td>\n",
       "    </tr>\n",
       "    <tr>\n",
       "      <th>KXExp6</th>\n",
       "      <td>79147.656000</td>\n",
       "      <td>NaN</td>\n",
       "    </tr>\n",
       "    <tr>\n",
       "      <th>KXExp7</th>\n",
       "      <td>141335.736000</td>\n",
       "      <td>NaN</td>\n",
       "    </tr>\n",
       "    <tr>\n",
       "      <th>KXExp8</th>\n",
       "      <td>211933.140200</td>\n",
       "      <td>NaN</td>\n",
       "    </tr>\n",
       "    <tr>\n",
       "      <th>KXExp9</th>\n",
       "      <td>180083.275800</td>\n",
       "      <td>NaN</td>\n",
       "    </tr>\n",
       "    <tr>\n",
       "      <th>KXExp10</th>\n",
       "      <td>34626.384000</td>\n",
       "      <td>NaN</td>\n",
       "    </tr>\n",
       "    <tr>\n",
       "      <th>KXExp11</th>\n",
       "      <td>56535.311930</td>\n",
       "      <td>NaN</td>\n",
       "    </tr>\n",
       "    <tr>\n",
       "      <th>KXExp12</th>\n",
       "      <td>334253.616000</td>\n",
       "      <td>NaN</td>\n",
       "    </tr>\n",
       "    <tr>\n",
       "      <th>KXExp13</th>\n",
       "      <td>79140.369710</td>\n",
       "      <td>NaN</td>\n",
       "    </tr>\n",
       "    <tr>\n",
       "      <th>KXExp14</th>\n",
       "      <td>38155.753440</td>\n",
       "      <td>NaN</td>\n",
       "    </tr>\n",
       "    <tr>\n",
       "      <th>KYExp16</th>\n",
       "      <td>3533.615897</td>\n",
       "      <td>NaN</td>\n",
       "    </tr>\n",
       "    <tr>\n",
       "      <th>KYExp17</th>\n",
       "      <td>9893.616000</td>\n",
       "      <td>NaN</td>\n",
       "    </tr>\n",
       "    <tr>\n",
       "      <th>KYExp18</th>\n",
       "      <td>12719.999900</td>\n",
       "      <td>NaN</td>\n",
       "    </tr>\n",
       "    <tr>\n",
       "      <th>KYExp19</th>\n",
       "      <td>4946.808000</td>\n",
       "      <td>NaN</td>\n",
       "    </tr>\n",
       "    <tr>\n",
       "      <th>KYExp20</th>\n",
       "      <td>4239.576000</td>\n",
       "      <td>NaN</td>\n",
       "    </tr>\n",
       "    <tr>\n",
       "      <th>KYExp21</th>\n",
       "      <td>2120.424000</td>\n",
       "      <td>NaN</td>\n",
       "    </tr>\n",
       "    <tr>\n",
       "      <th>KYExp25</th>\n",
       "      <td>8479.153055</td>\n",
       "      <td>NaN</td>\n",
       "    </tr>\n",
       "    <tr>\n",
       "      <th>KYExp26</th>\n",
       "      <td>12014.038940</td>\n",
       "      <td>NaN</td>\n",
       "    </tr>\n",
       "    <tr>\n",
       "      <th>KYExp27</th>\n",
       "      <td>6360.418569</td>\n",
       "      <td>NaN</td>\n",
       "    </tr>\n",
       "    <tr>\n",
       "      <th>KYExp28</th>\n",
       "      <td>9893.616000</td>\n",
       "      <td>NaN</td>\n",
       "    </tr>\n",
       "    <tr>\n",
       "      <th>CXExp29</th>\n",
       "      <td>3533.616518</td>\n",
       "      <td>NaN</td>\n",
       "    </tr>\n",
       "    <tr>\n",
       "      <th>CXExp33</th>\n",
       "      <td>12012.767600</td>\n",
       "      <td>NaN</td>\n",
       "    </tr>\n",
       "    <tr>\n",
       "      <th>CXExp34</th>\n",
       "      <td>10600.848000</td>\n",
       "      <td>NaN</td>\n",
       "    </tr>\n",
       "    <tr>\n",
       "      <th>CXExp35</th>\n",
       "      <td>10599.576000</td>\n",
       "      <td>NaN</td>\n",
       "    </tr>\n",
       "    <tr>\n",
       "      <th>CXExp36</th>\n",
       "      <td>14840.424000</td>\n",
       "      <td>NaN</td>\n",
       "    </tr>\n",
       "    <tr>\n",
       "      <th>CXExp37</th>\n",
       "      <td>23319.576000</td>\n",
       "      <td>NaN</td>\n",
       "    </tr>\n",
       "    <tr>\n",
       "      <th>CXExp38</th>\n",
       "      <td>12012.758780</td>\n",
       "      <td>NaN</td>\n",
       "    </tr>\n",
       "    <tr>\n",
       "      <th>CXExp39</th>\n",
       "      <td>34627.656000</td>\n",
       "      <td>NaN</td>\n",
       "    </tr>\n",
       "    <tr>\n",
       "      <th>CXExp40</th>\n",
       "      <td>7774.464000</td>\n",
       "      <td>NaN</td>\n",
       "    </tr>\n",
       "    <tr>\n",
       "      <th>CXExp41</th>\n",
       "      <td>14840.386070</td>\n",
       "      <td>NaN</td>\n",
       "    </tr>\n",
       "    <tr>\n",
       "      <th>CXExp42</th>\n",
       "      <td>9186.384000</td>\n",
       "      <td>NaN</td>\n",
       "    </tr>\n",
       "    <tr>\n",
       "      <th>CYExp43</th>\n",
       "      <td>13427.231940</td>\n",
       "      <td>NaN</td>\n",
       "    </tr>\n",
       "    <tr>\n",
       "      <th>CYExp44</th>\n",
       "      <td>8480.424000</td>\n",
       "      <td>NaN</td>\n",
       "    </tr>\n",
       "    <tr>\n",
       "      <th>CYExp45</th>\n",
       "      <td>7773.192000</td>\n",
       "      <td>NaN</td>\n",
       "    </tr>\n",
       "    <tr>\n",
       "      <th>CYExp46</th>\n",
       "      <td>17665.535890</td>\n",
       "      <td>NaN</td>\n",
       "    </tr>\n",
       "    <tr>\n",
       "      <th>CYExp47</th>\n",
       "      <td>13423.282130</td>\n",
       "      <td>NaN</td>\n",
       "    </tr>\n",
       "    <tr>\n",
       "      <th>CYExp48</th>\n",
       "      <td>7067.231905</td>\n",
       "      <td>NaN</td>\n",
       "    </tr>\n",
       "    <tr>\n",
       "      <th>CYExp49</th>\n",
       "      <td>5652.768000</td>\n",
       "      <td>NaN</td>\n",
       "    </tr>\n",
       "    <tr>\n",
       "      <th>CYExp51</th>\n",
       "      <td>10599.576000</td>\n",
       "      <td>NaN</td>\n",
       "    </tr>\n",
       "    <tr>\n",
       "      <th>CYExp53</th>\n",
       "      <td>4240.848000</td>\n",
       "      <td>NaN</td>\n",
       "    </tr>\n",
       "    <tr>\n",
       "      <th>CYExp56</th>\n",
       "      <td>7067.231673</td>\n",
       "      <td>NaN</td>\n",
       "    </tr>\n",
       "    <tr>\n",
       "      <th>KYExp60</th>\n",
       "      <td>7067.232000</td>\n",
       "      <td>NaN</td>\n",
       "    </tr>\n",
       "  </tbody>\n",
       "</table>\n",
       "</div>"
      ],
      "text/plain": [
       "         Lithocholic acid  sulfate  CLASS2\n",
       "Name                                      \n",
       "KXExp1                22612.343890     NaN\n",
       "KXExp2                40279.004780     NaN\n",
       "KXExp3                65010.569810     NaN\n",
       "KXExp4                77731.920000     NaN\n",
       "KXExp5                28266.384000     NaN\n",
       "KXExp6                79147.656000     NaN\n",
       "KXExp7               141335.736000     NaN\n",
       "KXExp8               211933.140200     NaN\n",
       "KXExp9               180083.275800     NaN\n",
       "KXExp10               34626.384000     NaN\n",
       "KXExp11               56535.311930     NaN\n",
       "KXExp12              334253.616000     NaN\n",
       "KXExp13               79140.369710     NaN\n",
       "KXExp14               38155.753440     NaN\n",
       "KYExp16                3533.615897     NaN\n",
       "KYExp17                9893.616000     NaN\n",
       "KYExp18               12719.999900     NaN\n",
       "KYExp19                4946.808000     NaN\n",
       "KYExp20                4239.576000     NaN\n",
       "KYExp21                2120.424000     NaN\n",
       "KYExp25                8479.153055     NaN\n",
       "KYExp26               12014.038940     NaN\n",
       "KYExp27                6360.418569     NaN\n",
       "KYExp28                9893.616000     NaN\n",
       "CXExp29                3533.616518     NaN\n",
       "CXExp33               12012.767600     NaN\n",
       "CXExp34               10600.848000     NaN\n",
       "CXExp35               10599.576000     NaN\n",
       "CXExp36               14840.424000     NaN\n",
       "CXExp37               23319.576000     NaN\n",
       "CXExp38               12012.758780     NaN\n",
       "CXExp39               34627.656000     NaN\n",
       "CXExp40                7774.464000     NaN\n",
       "CXExp41               14840.386070     NaN\n",
       "CXExp42                9186.384000     NaN\n",
       "CYExp43               13427.231940     NaN\n",
       "CYExp44                8480.424000     NaN\n",
       "CYExp45                7773.192000     NaN\n",
       "CYExp46               17665.535890     NaN\n",
       "CYExp47               13423.282130     NaN\n",
       "CYExp48                7067.231905     NaN\n",
       "CYExp49                5652.768000     NaN\n",
       "CYExp51               10599.576000     NaN\n",
       "CYExp53                4240.848000     NaN\n",
       "CYExp56                7067.231673     NaN\n",
       "KYExp60                7067.232000     NaN"
      ]
     },
     "execution_count": 34,
     "metadata": {},
     "output_type": "execute_result"
    }
   ],
   "source": [
    "shuju23_"
   ]
  },
  {
   "cell_type": "code",
   "execution_count": 35,
   "id": "132d9c7e",
   "metadata": {},
   "outputs": [],
   "source": [
    "FFS23 =shuju23_.drop(columns=['CLASS2'])"
   ]
  },
  {
   "cell_type": "code",
   "execution_count": 36,
   "id": "6263b664",
   "metadata": {},
   "outputs": [
    {
     "name": "stdout",
     "output_type": "stream",
     "text": [
      "<class 'pandas.core.frame.DataFrame'>\n",
      "Index: 46 entries, KXExp1 to KYExp60\n",
      "Data columns (total 1 columns):\n",
      " #   Column                     Non-Null Count  Dtype  \n",
      "---  ------                     --------------  -----  \n",
      " 0   Lithocholic acid  sulfate  46 non-null     float64\n",
      "dtypes: float64(1)\n",
      "memory usage: 736.0+ bytes\n"
     ]
    }
   ],
   "source": [
    "FFS23.info()"
   ]
  },
  {
   "cell_type": "code",
   "execution_count": 37,
   "id": "a63fdf40",
   "metadata": {},
   "outputs": [],
   "source": [
    "target23 = shuju23_.CLASS2"
   ]
  },
  {
   "cell_type": "code",
   "execution_count": 38,
   "id": "dda1c2d3",
   "metadata": {},
   "outputs": [],
   "source": [
    "transfer = StandardScaler()"
   ]
  },
  {
   "cell_type": "code",
   "execution_count": 39,
   "id": "13659312",
   "metadata": {},
   "outputs": [],
   "source": [
    "tezheng23 = transfer.fit_transform(FFS23)"
   ]
  },
  {
   "cell_type": "code",
   "execution_count": 40,
   "id": "767b3628",
   "metadata": {},
   "outputs": [
    {
     "data": {
      "text/plain": [
       "array([[-0.23528594],\n",
       "       [ 0.04633531],\n",
       "       [ 0.440577  ],\n",
       "       [ 0.64336589],\n",
       "       [-0.14515584],\n",
       "       [ 0.66593389],\n",
       "       [ 1.65726355],\n",
       "       [ 2.78264481],\n",
       "       [ 2.27493151],\n",
       "       [-0.04377216],\n",
       "       [ 0.30547435],\n",
       "       [ 4.7325348 ],\n",
       "       [ 0.66581775],\n",
       "       [ 0.01248892],\n",
       "       [-0.53941671],\n",
       "       [-0.43803303],\n",
       "       [-0.39297812],\n",
       "       [-0.51688926],\n",
       "       [-0.52816312],\n",
       "       [-0.56194416],\n",
       "       [-0.46058074],\n",
       "       [-0.40423172],\n",
       "       [-0.49435513],\n",
       "       [-0.43803303],\n",
       "       [-0.5394167 ],\n",
       "       [-0.40425199],\n",
       "       [-0.42675916],\n",
       "       [-0.42677944],\n",
       "       [-0.3591768 ],\n",
       "       [-0.22401207],\n",
       "       [-0.40425213],\n",
       "       [-0.04375189],\n",
       "       [-0.47181407],\n",
       "       [-0.3591774 ],\n",
       "       [-0.44930689],\n",
       "       [-0.38170425],\n",
       "       [-0.46056048],\n",
       "       [-0.47183435],\n",
       "       [-0.31414217],\n",
       "       [-0.38176722],\n",
       "       [-0.48308794],\n",
       "       [-0.50563567],\n",
       "       [-0.42677944],\n",
       "       [-0.52814285],\n",
       "       [-0.48308794],\n",
       "       [-0.48308794]])"
      ]
     },
     "execution_count": 40,
     "metadata": {},
     "output_type": "execute_result"
    }
   ],
   "source": [
    "tezheng23"
   ]
  },
  {
   "cell_type": "code",
   "execution_count": 41,
   "id": "61ad73de",
   "metadata": {},
   "outputs": [
    {
     "data": {
      "text/plain": [
       "array([1, 1, 1, 1, 1, 1, 1, 0, 1, 1, 1, 0, 1, 1, 1, 1, 1, 1, 1, 1, 1, 1,\n",
       "       1, 1, 1, 1, 1, 1, 1, 1, 1, 1, 1, 1, 1, 1, 1, 1, 1, 1, 1, 1, 1, 1,\n",
       "       1, 1], dtype=int64)"
      ]
     },
     "execution_count": 41,
     "metadata": {},
     "output_type": "execute_result"
    }
   ],
   "source": [
    "test_predict = SVC3.predict(tezheng23)\n",
    "test_predict"
   ]
  },
  {
   "cell_type": "code",
   "execution_count": null,
   "id": "49a9fc12",
   "metadata": {},
   "outputs": [],
   "source": []
  },
  {
   "cell_type": "code",
   "execution_count": null,
   "id": "4aaf8fda",
   "metadata": {},
   "outputs": [],
   "source": []
  },
  {
   "cell_type": "code",
   "execution_count": null,
   "id": "22e7af9f",
   "metadata": {},
   "outputs": [],
   "source": []
  }
 ],
 "metadata": {
  "kernelspec": {
   "display_name": "Python 3 (ipykernel)",
   "language": "python",
   "name": "python3"
  },
  "language_info": {
   "codemirror_mode": {
    "name": "ipython",
    "version": 3
   },
   "file_extension": ".py",
   "mimetype": "text/x-python",
   "name": "python",
   "nbconvert_exporter": "python",
   "pygments_lexer": "ipython3",
   "version": "3.9.12"
  }
 },
 "nbformat": 4,
 "nbformat_minor": 5
}
