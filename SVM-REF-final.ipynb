{
 "cells": [
  {
   "cell_type": "code",
   "execution_count": 2,
   "id": "47aab1b4",
   "metadata": {},
   "outputs": [],
   "source": [
    "import numpy as np\n",
    "import pandas as pd\n",
    "from sklearn.preprocessing import StandardScaler\n",
    "from sklearn.linear_model import LinearRegression, Lasso, Ridge, ElasticNet\n",
    "from sklearn.linear_model import LogisticRegression\n",
    "from sklearn.model_selection import KFold,ShuffleSplit,cross_val_score"
   ]
  },
  {
   "cell_type": "code",
   "execution_count": 3,
   "id": "36fab334",
   "metadata": {},
   "outputs": [],
   "source": [
    "shuju3= pd.read_excel(\"LIPIRIN_TOP30% 第2次_共2_identify-new.xlsx\",index_col=0)"
   ]
  },
  {
   "cell_type": "code",
   "execution_count": 4,
   "id": "95fd6970",
   "metadata": {},
   "outputs": [],
   "source": [
    "shuju3_ =shuju3.copy()"
   ]
  },
  {
   "cell_type": "code",
   "execution_count": 5,
   "id": "d1575fec",
   "metadata": {},
   "outputs": [
    {
     "data": {
      "text/html": [
       "<div>\n",
       "<style scoped>\n",
       "    .dataframe tbody tr th:only-of-type {\n",
       "        vertical-align: middle;\n",
       "    }\n",
       "\n",
       "    .dataframe tbody tr th {\n",
       "        vertical-align: top;\n",
       "    }\n",
       "\n",
       "    .dataframe thead th {\n",
       "        text-align: right;\n",
       "    }\n",
       "</style>\n",
       "<table border=\"1\" class=\"dataframe\">\n",
       "  <thead>\n",
       "    <tr style=\"text-align: right;\">\n",
       "      <th></th>\n",
       "      <th>CLASS2</th>\n",
       "      <th>Hypoxanthine</th>\n",
       "      <th>D-Ribose 5-Phosphate</th>\n",
       "    </tr>\n",
       "    <tr>\n",
       "      <th>MetaboName</th>\n",
       "      <th></th>\n",
       "      <th></th>\n",
       "      <th></th>\n",
       "    </tr>\n",
       "  </thead>\n",
       "  <tbody>\n",
       "    <tr>\n",
       "      <th>B60</th>\n",
       "      <td>1</td>\n",
       "      <td>1.780298e+07</td>\n",
       "      <td>5.250820e+07</td>\n",
       "    </tr>\n",
       "    <tr>\n",
       "      <th>B63</th>\n",
       "      <td>1</td>\n",
       "      <td>1.586566e+07</td>\n",
       "      <td>2.898887e+07</td>\n",
       "    </tr>\n",
       "    <tr>\n",
       "      <th>B64</th>\n",
       "      <td>1</td>\n",
       "      <td>2.267567e+07</td>\n",
       "      <td>2.171345e+07</td>\n",
       "    </tr>\n",
       "    <tr>\n",
       "      <th>B67</th>\n",
       "      <td>1</td>\n",
       "      <td>2.816587e+07</td>\n",
       "      <td>2.652347e+07</td>\n",
       "    </tr>\n",
       "    <tr>\n",
       "      <th>B75</th>\n",
       "      <td>1</td>\n",
       "      <td>1.740545e+07</td>\n",
       "      <td>2.850349e+07</td>\n",
       "    </tr>\n",
       "    <tr>\n",
       "      <th>B77</th>\n",
       "      <td>1</td>\n",
       "      <td>2.279251e+07</td>\n",
       "      <td>2.140806e+07</td>\n",
       "    </tr>\n",
       "    <tr>\n",
       "      <th>B83</th>\n",
       "      <td>1</td>\n",
       "      <td>7.824715e+07</td>\n",
       "      <td>6.419264e+07</td>\n",
       "    </tr>\n",
       "    <tr>\n",
       "      <th>B85</th>\n",
       "      <td>1</td>\n",
       "      <td>5.671875e+09</td>\n",
       "      <td>9.366450e+07</td>\n",
       "    </tr>\n",
       "    <tr>\n",
       "      <th>B90</th>\n",
       "      <td>1</td>\n",
       "      <td>2.940433e+09</td>\n",
       "      <td>1.520331e+08</td>\n",
       "    </tr>\n",
       "    <tr>\n",
       "      <th>B98</th>\n",
       "      <td>1</td>\n",
       "      <td>2.991771e+09</td>\n",
       "      <td>9.072666e+07</td>\n",
       "    </tr>\n",
       "    <tr>\n",
       "      <th>B46</th>\n",
       "      <td>0</td>\n",
       "      <td>1.595924e+10</td>\n",
       "      <td>1.500616e+08</td>\n",
       "    </tr>\n",
       "    <tr>\n",
       "      <th>B62</th>\n",
       "      <td>0</td>\n",
       "      <td>7.448535e+09</td>\n",
       "      <td>1.007105e+08</td>\n",
       "    </tr>\n",
       "    <tr>\n",
       "      <th>B74</th>\n",
       "      <td>0</td>\n",
       "      <td>1.789717e+07</td>\n",
       "      <td>6.735955e+07</td>\n",
       "    </tr>\n",
       "    <tr>\n",
       "      <th>B76</th>\n",
       "      <td>0</td>\n",
       "      <td>8.952675e+07</td>\n",
       "      <td>4.665273e+07</td>\n",
       "    </tr>\n",
       "    <tr>\n",
       "      <th>B80</th>\n",
       "      <td>0</td>\n",
       "      <td>9.259466e+09</td>\n",
       "      <td>2.552674e+08</td>\n",
       "    </tr>\n",
       "    <tr>\n",
       "      <th>B82</th>\n",
       "      <td>0</td>\n",
       "      <td>6.770671e+09</td>\n",
       "      <td>3.088235e+08</td>\n",
       "    </tr>\n",
       "    <tr>\n",
       "      <th>B88</th>\n",
       "      <td>0</td>\n",
       "      <td>1.455464e+10</td>\n",
       "      <td>1.750515e+08</td>\n",
       "    </tr>\n",
       "    <tr>\n",
       "      <th>B92</th>\n",
       "      <td>0</td>\n",
       "      <td>9.172512e+09</td>\n",
       "      <td>8.275652e+07</td>\n",
       "    </tr>\n",
       "    <tr>\n",
       "      <th>B96</th>\n",
       "      <td>0</td>\n",
       "      <td>3.819459e+09</td>\n",
       "      <td>1.340747e+08</td>\n",
       "    </tr>\n",
       "    <tr>\n",
       "      <th>B97</th>\n",
       "      <td>0</td>\n",
       "      <td>6.511077e+09</td>\n",
       "      <td>1.908662e+08</td>\n",
       "    </tr>\n",
       "  </tbody>\n",
       "</table>\n",
       "</div>"
      ],
      "text/plain": [
       "            CLASS2  Hypoxanthine  D-Ribose 5-Phosphate\n",
       "MetaboName                                            \n",
       "B60              1  1.780298e+07          5.250820e+07\n",
       "B63              1  1.586566e+07          2.898887e+07\n",
       "B64              1  2.267567e+07          2.171345e+07\n",
       "B67              1  2.816587e+07          2.652347e+07\n",
       "B75              1  1.740545e+07          2.850349e+07\n",
       "B77              1  2.279251e+07          2.140806e+07\n",
       "B83              1  7.824715e+07          6.419264e+07\n",
       "B85              1  5.671875e+09          9.366450e+07\n",
       "B90              1  2.940433e+09          1.520331e+08\n",
       "B98              1  2.991771e+09          9.072666e+07\n",
       "B46              0  1.595924e+10          1.500616e+08\n",
       "B62              0  7.448535e+09          1.007105e+08\n",
       "B74              0  1.789717e+07          6.735955e+07\n",
       "B76              0  8.952675e+07          4.665273e+07\n",
       "B80              0  9.259466e+09          2.552674e+08\n",
       "B82              0  6.770671e+09          3.088235e+08\n",
       "B88              0  1.455464e+10          1.750515e+08\n",
       "B92              0  9.172512e+09          8.275652e+07\n",
       "B96              0  3.819459e+09          1.340747e+08\n",
       "B97              0  6.511077e+09          1.908662e+08"
      ]
     },
     "execution_count": 5,
     "metadata": {},
     "output_type": "execute_result"
    }
   ],
   "source": [
    "shuju3_"
   ]
  },
  {
   "cell_type": "code",
   "execution_count": 6,
   "id": "6d8746a5",
   "metadata": {},
   "outputs": [],
   "source": [
    "FFS3 =shuju3_.drop(columns=['CLASS2'])"
   ]
  },
  {
   "cell_type": "code",
   "execution_count": 7,
   "id": "62d9b237",
   "metadata": {},
   "outputs": [
    {
     "name": "stdout",
     "output_type": "stream",
     "text": [
      "<class 'pandas.core.frame.DataFrame'>\n",
      "Index: 20 entries, B60 to B97\n",
      "Data columns (total 2 columns):\n",
      " #   Column                Non-Null Count  Dtype  \n",
      "---  ------                --------------  -----  \n",
      " 0   Hypoxanthine          20 non-null     float64\n",
      " 1   D-Ribose 5-Phosphate  20 non-null     float64\n",
      "dtypes: float64(2)\n",
      "memory usage: 480.0+ bytes\n"
     ]
    }
   ],
   "source": [
    "FFS3.info()"
   ]
  },
  {
   "cell_type": "code",
   "execution_count": 8,
   "id": "a0091b2a",
   "metadata": {},
   "outputs": [],
   "source": [
    "target3 = shuju3_.CLASS2"
   ]
  },
  {
   "cell_type": "code",
   "execution_count": 9,
   "id": "b4ddbe78",
   "metadata": {},
   "outputs": [],
   "source": [
    "transfer = StandardScaler()"
   ]
  },
  {
   "cell_type": "code",
   "execution_count": 10,
   "id": "940d35ff",
   "metadata": {},
   "outputs": [],
   "source": [
    "tezheng3 = transfer.fit_transform(FFS3)"
   ]
  },
  {
   "cell_type": "code",
   "execution_count": 11,
   "id": "02907320",
   "metadata": {},
   "outputs": [
    {
     "data": {
      "text/plain": [
       "array([[-0.86830228, -0.66340003],\n",
       "       [-0.86869784, -0.96295616],\n",
       "       [-0.86730739, -1.05562035],\n",
       "       [-0.86618642, -0.99435698],\n",
       "       [-0.86838345, -0.96913825],\n",
       "       [-0.86728354, -1.05950992],\n",
       "       [-0.85596099, -0.51457995],\n",
       "       [ 0.28612752, -0.13920881],\n",
       "       [-0.27156929,  0.60420838],\n",
       "       [-0.26108728, -0.17662697],\n",
       "       [ 2.38656799,  0.57909778],\n",
       "       [ 0.64888012, -0.04946684],\n",
       "       [-0.86828305, -0.47424442],\n",
       "       [-0.85365796, -0.73797882],\n",
       "       [ 1.01863008,  1.91906155],\n",
       "       [ 0.51047602,  2.60118424],\n",
       "       [ 2.09978116,  0.89738488],\n",
       "       [ 1.00087605, -0.2781394 ],\n",
       "       [-0.09209256,  0.37547954],\n",
       "       [ 0.45747311,  1.09881052]])"
      ]
     },
     "execution_count": 11,
     "metadata": {},
     "output_type": "execute_result"
    }
   ],
   "source": [
    "tezheng3"
   ]
  },
  {
   "cell_type": "code",
   "execution_count": 12,
   "id": "bb02ea09",
   "metadata": {},
   "outputs": [],
   "source": [
    "sss3 = ShuffleSplit(n_splits=10, test_size=0.2,random_state=9999)"
   ]
  },
  {
   "cell_type": "code",
   "execution_count": 13,
   "id": "ef0536bb",
   "metadata": {},
   "outputs": [],
   "source": [
    "from sklearn.model_selection import GridSearchCV,RandomizedSearchCV\n",
    "from sklearn.svm import SVC"
   ]
  },
  {
   "cell_type": "code",
   "execution_count": 14,
   "id": "58258856",
   "metadata": {},
   "outputs": [],
   "source": [
    "CCs2 = np.logspace(-3,3,1000)"
   ]
  },
  {
   "cell_type": "code",
   "execution_count": 15,
   "id": "3ce423e1",
   "metadata": {},
   "outputs": [],
   "source": [
    "param_distributions={'C': np.logspace(-3,3,1000),'gamma': np.logspace(-3,3,1000), 'kernel': ['linear', 'rbf']}"
   ]
  },
  {
   "cell_type": "code",
   "execution_count": 16,
   "id": "a0425778",
   "metadata": {},
   "outputs": [],
   "source": [
    "svc_clf = SVC()"
   ]
  },
  {
   "cell_type": "code",
   "execution_count": 17,
   "id": "d6af4298",
   "metadata": {},
   "outputs": [],
   "source": [
    "random_search =RandomizedSearchCV(svc_clf, param_distributions, cv=sss3, n_iter=2000)"
   ]
  },
  {
   "cell_type": "code",
   "execution_count": 18,
   "id": "e032f1a9",
   "metadata": {},
   "outputs": [
    {
     "data": {
      "text/plain": [
       "RandomizedSearchCV(cv=ShuffleSplit(n_splits=10, random_state=9999, test_size=0.2, train_size=None),\n",
       "                   estimator=SVC(), n_iter=2000,\n",
       "                   param_distributions={'C': array([1.00000000e-03, 1.01392541e-03, 1.02804473e-03, 1.04236067e-03,\n",
       "       1.05687597e-03, 1.07159340e-03, 1.08651577e-03, 1.10164595e-03,\n",
       "       1.11698682e-03, 1.13254132e-03, 1.14831241e-03, 1.16430313e-03,\n",
       "       1.18051653e-03...\n",
       "       7.27548353e+02, 7.37679760e+02, 7.47952252e+02, 7.58367791e+02,\n",
       "       7.68928372e+02, 7.79636013e+02, 7.90492762e+02, 8.01500696e+02,\n",
       "       8.12661920e+02, 8.23978568e+02, 8.35452806e+02, 8.47086827e+02,\n",
       "       8.58882856e+02, 8.70843150e+02, 8.82969996e+02, 8.95265713e+02,\n",
       "       9.07732653e+02, 9.20373200e+02, 9.33189772e+02, 9.46184819e+02,\n",
       "       9.59360829e+02, 9.72720319e+02, 9.86265846e+02, 1.00000000e+03]),\n",
       "                                        'kernel': ['linear', 'rbf']})"
      ]
     },
     "execution_count": 18,
     "metadata": {},
     "output_type": "execute_result"
    }
   ],
   "source": [
    "random_search.fit(tezheng3, target3)"
   ]
  },
  {
   "cell_type": "code",
   "execution_count": 19,
   "id": "f6c2eaac",
   "metadata": {},
   "outputs": [
    {
     "data": {
      "text/plain": [
       "{'kernel': 'linear', 'gamma': 0.017999285067824763, 'C': 0.06248788072006891}"
      ]
     },
     "execution_count": 19,
     "metadata": {},
     "output_type": "execute_result"
    }
   ],
   "source": [
    "random_search.best_params_"
   ]
  },
  {
   "cell_type": "code",
   "execution_count": 20,
   "id": "ec2b1145",
   "metadata": {},
   "outputs": [
    {
     "data": {
      "text/plain": [
       "0.9"
      ]
     },
     "execution_count": 20,
     "metadata": {},
     "output_type": "execute_result"
    }
   ],
   "source": [
    "random_search.best_score_"
   ]
  },
  {
   "cell_type": "code",
   "execution_count": 21,
   "id": "dbf87514",
   "metadata": {},
   "outputs": [
    {
     "data": {
      "text/plain": [
       "SVC(C=0.06248788072006891, gamma=0.017999285067824763, kernel='linear')"
      ]
     },
     "execution_count": 21,
     "metadata": {},
     "output_type": "execute_result"
    }
   ],
   "source": [
    "random_search.best_estimator_"
   ]
  },
  {
   "cell_type": "code",
   "execution_count": 22,
   "id": "3bc1f382",
   "metadata": {},
   "outputs": [],
   "source": [
    "SVC3=SVC(C=0.06248788072006891,kernel='linear',gamma=0.017999285067824763)"
   ]
  },
  {
   "cell_type": "code",
   "execution_count": 23,
   "id": "874359e7",
   "metadata": {},
   "outputs": [
    {
     "data": {
      "text/plain": [
       "SVC(C=0.06248788072006891, gamma=0.017999285067824763, kernel='linear')"
      ]
     },
     "execution_count": 23,
     "metadata": {},
     "output_type": "execute_result"
    }
   ],
   "source": [
    "SVC3.fit(tezheng3, target3)"
   ]
  },
  {
   "cell_type": "code",
   "execution_count": 24,
   "id": "bbc4efba",
   "metadata": {},
   "outputs": [
    {
     "data": {
      "text/plain": [
       "0.85"
      ]
     },
     "execution_count": 24,
     "metadata": {},
     "output_type": "execute_result"
    }
   ],
   "source": [
    "SVC3.score(tezheng3, target3)"
   ]
  },
  {
   "cell_type": "code",
   "execution_count": 25,
   "id": "a6c0cc1b",
   "metadata": {},
   "outputs": [
    {
     "data": {
      "text/plain": [
       "array([[-0.424199  , -0.39357187]])"
      ]
     },
     "execution_count": 25,
     "metadata": {},
     "output_type": "execute_result"
    }
   ],
   "source": [
    "SVC3.coef_"
   ]
  },
  {
   "cell_type": "code",
   "execution_count": 26,
   "id": "1c724174",
   "metadata": {},
   "outputs": [],
   "source": [
    "from sklearn.feature_selection import RFE \n",
    "from sklearn.feature_selection import RFECV"
   ]
  },
  {
   "cell_type": "code",
   "execution_count": 27,
   "id": "e5b4c14c",
   "metadata": {},
   "outputs": [],
   "source": [
    "RFECV = RFECV(SVC3, step=1, cv=sss3)"
   ]
  },
  {
   "cell_type": "code",
   "execution_count": 28,
   "id": "a7c70be7",
   "metadata": {},
   "outputs": [],
   "source": [
    "RFECV = RFECV.fit(tezheng3, target3)"
   ]
  },
  {
   "cell_type": "code",
   "execution_count": 29,
   "id": "8739fa2e",
   "metadata": {},
   "outputs": [
    {
     "name": "stdout",
     "output_type": "stream",
     "text": [
      "Optimal number of features : 2\n"
     ]
    }
   ],
   "source": [
    "print(\"Optimal number of features : %d\" % RFECV.n_features_)"
   ]
  },
  {
   "cell_type": "code",
   "execution_count": 30,
   "id": "a394a8a7",
   "metadata": {},
   "outputs": [
    {
     "data": {
      "image/png": "[encoded data removed]",
      "text/plain": [
       "<Figure size 432x288 with 1 Axes>"
      ]
     },
     "metadata": {
      "needs_background": "light"
     },
     "output_type": "display_data"
    }
   ],
   "source": [
    "import matplotlib.pyplot as plt\n",
    "plt.figure()\n",
    "plt.xlabel(\"Number of features selected\")\n",
    "plt.ylabel(\"Cross validation score (nb of correct classifications)\")\n",
    "plt.plot(range(1, len(RFECV.grid_scores_) + 1), RFECV.grid_scores_)\n",
    "plt.show()"
   ]
  },
  {
   "cell_type": "code",
   "execution_count": 37,
   "id": "7fd7ba14",
   "metadata": {},
   "outputs": [],
   "source": [
    "rfe = RFE(SVC3, n_features_to_select=2)"
   ]
  },
  {
   "cell_type": "code",
   "execution_count": 38,
   "id": "eee9be21",
   "metadata": {},
   "outputs": [],
   "source": [
    "X_selected = rfe.fit_transform(tezheng3, target3)"
   ]
  },
  {
   "cell_type": "code",
   "execution_count": 39,
   "id": "2fa756f2",
   "metadata": {},
   "outputs": [
    {
     "name": "stdout",
     "output_type": "stream",
     "text": [
      "[0 1]\n"
     ]
    }
   ],
   "source": [
    "print(rfe.get_support(indices=True))"
   ]
  },
  {
   "cell_type": "code",
   "execution_count": 40,
   "id": "979c5bd0",
   "metadata": {},
   "outputs": [
    {
     "name": "stdout",
     "output_type": "stream",
     "text": [
      "2\n"
     ]
    }
   ],
   "source": [
    "print(rfe.n_features_) "
   ]
  },
  {
   "cell_type": "code",
   "execution_count": 41,
   "id": "a6e13382",
   "metadata": {},
   "outputs": [
    {
     "name": "stdout",
     "output_type": "stream",
     "text": [
      "[[-0.86830228 -0.66340003]\n",
      " [-0.86869784 -0.96295616]\n",
      " [-0.86730739 -1.05562035]\n",
      " [-0.86618642 -0.99435698]\n",
      " [-0.86838345 -0.96913825]\n",
      " [-0.86728354 -1.05950992]\n",
      " [-0.85596099 -0.51457995]\n",
      " [ 0.28612752 -0.13920881]\n",
      " [-0.27156929  0.60420838]\n",
      " [-0.26108728 -0.17662697]\n",
      " [ 2.38656799  0.57909778]\n",
      " [ 0.64888012 -0.04946684]\n",
      " [-0.86828305 -0.47424442]\n",
      " [-0.85365796 -0.73797882]\n",
      " [ 1.01863008  1.91906155]\n",
      " [ 0.51047602  2.60118424]\n",
      " [ 2.09978116  0.89738488]\n",
      " [ 1.00087605 -0.2781394 ]\n",
      " [-0.09209256  0.37547954]\n",
      " [ 0.45747311  1.09881052]]\n"
     ]
    }
   ],
   "source": [
    "print(X_selected)"
   ]
  },
  {
   "cell_type": "code",
   "execution_count": 42,
   "id": "2d1b519e",
   "metadata": {},
   "outputs": [
    {
     "name": "stdout",
     "output_type": "stream",
     "text": [
      "[1 1]\n"
     ]
    }
   ],
   "source": [
    "print(rfe.ranking_)"
   ]
  },
  {
   "cell_type": "code",
   "execution_count": null,
   "id": "37da5388",
   "metadata": {},
   "outputs": [],
   "source": [
    "print(features.columns[rfe.get_support(indices=True)])"
   ]
  },
  {
   "cell_type": "code",
   "execution_count": 32,
   "id": "f0550431",
   "metadata": {},
   "outputs": [],
   "source": [
    "shuju23= pd.read_excel(\"LIPIRIN-TUMOR-IDE-target-gong2.xlsx\",index_col=0)"
   ]
  },
  {
   "cell_type": "code",
   "execution_count": 33,
   "id": "56c76ab7",
   "metadata": {},
   "outputs": [],
   "source": [
    "shuju23_ =shuju23.copy()"
   ]
  },
  {
   "cell_type": "code",
   "execution_count": 34,
   "id": "0f1876dd",
   "metadata": {},
   "outputs": [
    {
     "data": {
      "text/html": [
       "<div>\n",
       "<style scoped>\n",
       "    .dataframe tbody tr th:only-of-type {\n",
       "        vertical-align: middle;\n",
       "    }\n",
       "\n",
       "    .dataframe tbody tr th {\n",
       "        vertical-align: top;\n",
       "    }\n",
       "\n",
       "    .dataframe thead th {\n",
       "        text-align: right;\n",
       "    }\n",
       "</style>\n",
       "<table border=\"1\" class=\"dataframe\">\n",
       "  <thead>\n",
       "    <tr style=\"text-align: right;\">\n",
       "      <th></th>\n",
       "      <th>D-Ribose 5-phosphate</th>\n",
       "      <th>Hypoxanthine</th>\n",
       "      <th>CLASS2</th>\n",
       "    </tr>\n",
       "    <tr>\n",
       "      <th>Name</th>\n",
       "      <th></th>\n",
       "      <th></th>\n",
       "      <th></th>\n",
       "    </tr>\n",
       "  </thead>\n",
       "  <tbody>\n",
       "    <tr>\n",
       "      <th>K-1</th>\n",
       "      <td>1.406731e+06</td>\n",
       "      <td>9.306818e+07</td>\n",
       "      <td>NaN</td>\n",
       "    </tr>\n",
       "    <tr>\n",
       "      <th>K-2</th>\n",
       "      <td>1.917346e+06</td>\n",
       "      <td>6.526088e+07</td>\n",
       "      <td>NaN</td>\n",
       "    </tr>\n",
       "    <tr>\n",
       "      <th>K-3</th>\n",
       "      <td>1.902215e+06</td>\n",
       "      <td>5.711676e+07</td>\n",
       "      <td>NaN</td>\n",
       "    </tr>\n",
       "    <tr>\n",
       "      <th>K-4</th>\n",
       "      <td>1.738707e+06</td>\n",
       "      <td>1.767468e+08</td>\n",
       "      <td>NaN</td>\n",
       "    </tr>\n",
       "    <tr>\n",
       "      <th>K-5</th>\n",
       "      <td>2.318807e+06</td>\n",
       "      <td>1.278038e+08</td>\n",
       "      <td>NaN</td>\n",
       "    </tr>\n",
       "    <tr>\n",
       "      <th>K-6</th>\n",
       "      <td>2.790601e+06</td>\n",
       "      <td>1.200290e+08</td>\n",
       "      <td>NaN</td>\n",
       "    </tr>\n",
       "    <tr>\n",
       "      <th>K-7</th>\n",
       "      <td>2.625609e+06</td>\n",
       "      <td>1.055056e+08</td>\n",
       "      <td>NaN</td>\n",
       "    </tr>\n",
       "    <tr>\n",
       "      <th>K-8</th>\n",
       "      <td>1.081681e+06</td>\n",
       "      <td>5.644196e+07</td>\n",
       "      <td>NaN</td>\n",
       "    </tr>\n",
       "    <tr>\n",
       "      <th>K-9</th>\n",
       "      <td>1.816853e+06</td>\n",
       "      <td>2.122606e+08</td>\n",
       "      <td>NaN</td>\n",
       "    </tr>\n",
       "    <tr>\n",
       "      <th>K-10</th>\n",
       "      <td>3.371298e+06</td>\n",
       "      <td>1.153428e+08</td>\n",
       "      <td>NaN</td>\n",
       "    </tr>\n",
       "    <tr>\n",
       "      <th>K-12</th>\n",
       "      <td>2.395255e+06</td>\n",
       "      <td>5.592766e+07</td>\n",
       "      <td>NaN</td>\n",
       "    </tr>\n",
       "    <tr>\n",
       "      <th>K-13</th>\n",
       "      <td>1.245957e+07</td>\n",
       "      <td>6.245169e+07</td>\n",
       "      <td>NaN</td>\n",
       "    </tr>\n",
       "    <tr>\n",
       "      <th>K-14</th>\n",
       "      <td>6.175473e+06</td>\n",
       "      <td>9.898587e+07</td>\n",
       "      <td>NaN</td>\n",
       "    </tr>\n",
       "    <tr>\n",
       "      <th>K-15</th>\n",
       "      <td>2.316156e+06</td>\n",
       "      <td>7.338427e+07</td>\n",
       "      <td>NaN</td>\n",
       "    </tr>\n",
       "    <tr>\n",
       "      <th>K-16</th>\n",
       "      <td>2.961970e+06</td>\n",
       "      <td>1.132741e+08</td>\n",
       "      <td>NaN</td>\n",
       "    </tr>\n",
       "    <tr>\n",
       "      <th>K-17</th>\n",
       "      <td>2.447040e+06</td>\n",
       "      <td>1.131408e+08</td>\n",
       "      <td>NaN</td>\n",
       "    </tr>\n",
       "    <tr>\n",
       "      <th>K-18</th>\n",
       "      <td>4.119979e+06</td>\n",
       "      <td>1.006758e+08</td>\n",
       "      <td>NaN</td>\n",
       "    </tr>\n",
       "    <tr>\n",
       "      <th>K-19</th>\n",
       "      <td>2.092887e+06</td>\n",
       "      <td>9.556239e+07</td>\n",
       "      <td>NaN</td>\n",
       "    </tr>\n",
       "    <tr>\n",
       "      <th>K-20</th>\n",
       "      <td>2.145923e+06</td>\n",
       "      <td>4.768976e+07</td>\n",
       "      <td>NaN</td>\n",
       "    </tr>\n",
       "    <tr>\n",
       "      <th>K-21</th>\n",
       "      <td>1.008704e+07</td>\n",
       "      <td>2.057808e+08</td>\n",
       "      <td>NaN</td>\n",
       "    </tr>\n",
       "    <tr>\n",
       "      <th>K-22</th>\n",
       "      <td>2.854761e+06</td>\n",
       "      <td>1.748821e+08</td>\n",
       "      <td>NaN</td>\n",
       "    </tr>\n",
       "    <tr>\n",
       "      <th>K-23</th>\n",
       "      <td>2.185601e+06</td>\n",
       "      <td>1.019103e+08</td>\n",
       "      <td>NaN</td>\n",
       "    </tr>\n",
       "    <tr>\n",
       "      <th>K-24</th>\n",
       "      <td>2.563479e+06</td>\n",
       "      <td>1.171972e+08</td>\n",
       "      <td>NaN</td>\n",
       "    </tr>\n",
       "    <tr>\n",
       "      <th>K-25</th>\n",
       "      <td>2.069372e+06</td>\n",
       "      <td>5.041984e+07</td>\n",
       "      <td>NaN</td>\n",
       "    </tr>\n",
       "    <tr>\n",
       "      <th>K-26</th>\n",
       "      <td>6.975815e+06</td>\n",
       "      <td>6.412459e+07</td>\n",
       "      <td>NaN</td>\n",
       "    </tr>\n",
       "    <tr>\n",
       "      <th>K-27</th>\n",
       "      <td>2.281326e+06</td>\n",
       "      <td>1.035590e+08</td>\n",
       "      <td>NaN</td>\n",
       "    </tr>\n",
       "    <tr>\n",
       "      <th>K-28</th>\n",
       "      <td>1.712216e+06</td>\n",
       "      <td>4.291044e+07</td>\n",
       "      <td>NaN</td>\n",
       "    </tr>\n",
       "    <tr>\n",
       "      <th>K-29</th>\n",
       "      <td>2.116759e+06</td>\n",
       "      <td>8.183758e+07</td>\n",
       "      <td>NaN</td>\n",
       "    </tr>\n",
       "    <tr>\n",
       "      <th>K-30</th>\n",
       "      <td>5.634093e+06</td>\n",
       "      <td>7.250938e+07</td>\n",
       "      <td>NaN</td>\n",
       "    </tr>\n",
       "    <tr>\n",
       "      <th>K-31</th>\n",
       "      <td>1.780193e+06</td>\n",
       "      <td>1.384344e+08</td>\n",
       "      <td>NaN</td>\n",
       "    </tr>\n",
       "    <tr>\n",
       "      <th>K-32</th>\n",
       "      <td>2.200360e+06</td>\n",
       "      <td>1.178088e+08</td>\n",
       "      <td>NaN</td>\n",
       "    </tr>\n",
       "    <tr>\n",
       "      <th>K-33</th>\n",
       "      <td>4.401031e+06</td>\n",
       "      <td>5.241880e+07</td>\n",
       "      <td>NaN</td>\n",
       "    </tr>\n",
       "    <tr>\n",
       "      <th>K-34</th>\n",
       "      <td>2.386232e+06</td>\n",
       "      <td>9.810471e+07</td>\n",
       "      <td>NaN</td>\n",
       "    </tr>\n",
       "    <tr>\n",
       "      <th>K-35</th>\n",
       "      <td>4.472078e+06</td>\n",
       "      <td>1.113434e+08</td>\n",
       "      <td>NaN</td>\n",
       "    </tr>\n",
       "    <tr>\n",
       "      <th>K-36</th>\n",
       "      <td>3.654864e+06</td>\n",
       "      <td>6.236367e+07</td>\n",
       "      <td>NaN</td>\n",
       "    </tr>\n",
       "    <tr>\n",
       "      <th>K-37</th>\n",
       "      <td>1.874194e+06</td>\n",
       "      <td>1.261420e+08</td>\n",
       "      <td>NaN</td>\n",
       "    </tr>\n",
       "    <tr>\n",
       "      <th>K-38</th>\n",
       "      <td>4.565434e+06</td>\n",
       "      <td>1.003354e+08</td>\n",
       "      <td>NaN</td>\n",
       "    </tr>\n",
       "    <tr>\n",
       "      <th>K-39</th>\n",
       "      <td>5.543140e+06</td>\n",
       "      <td>1.102204e+08</td>\n",
       "      <td>NaN</td>\n",
       "    </tr>\n",
       "    <tr>\n",
       "      <th>K-40</th>\n",
       "      <td>5.440604e+06</td>\n",
       "      <td>5.775030e+07</td>\n",
       "      <td>NaN</td>\n",
       "    </tr>\n",
       "    <tr>\n",
       "      <th>K-41</th>\n",
       "      <td>2.747380e+06</td>\n",
       "      <td>4.949712e+07</td>\n",
       "      <td>NaN</td>\n",
       "    </tr>\n",
       "    <tr>\n",
       "      <th>K-43</th>\n",
       "      <td>2.505549e+06</td>\n",
       "      <td>1.177268e+08</td>\n",
       "      <td>NaN</td>\n",
       "    </tr>\n",
       "    <tr>\n",
       "      <th>K-44</th>\n",
       "      <td>1.521831e+06</td>\n",
       "      <td>7.434871e+07</td>\n",
       "      <td>NaN</td>\n",
       "    </tr>\n",
       "    <tr>\n",
       "      <th>K-45</th>\n",
       "      <td>4.463406e+06</td>\n",
       "      <td>1.592015e+08</td>\n",
       "      <td>NaN</td>\n",
       "    </tr>\n",
       "    <tr>\n",
       "      <th>K-46</th>\n",
       "      <td>2.381985e+06</td>\n",
       "      <td>1.481870e+08</td>\n",
       "      <td>NaN</td>\n",
       "    </tr>\n",
       "    <tr>\n",
       "      <th>K-47</th>\n",
       "      <td>4.942280e+06</td>\n",
       "      <td>1.409609e+08</td>\n",
       "      <td>NaN</td>\n",
       "    </tr>\n",
       "    <tr>\n",
       "      <th>K-48</th>\n",
       "      <td>3.959402e+06</td>\n",
       "      <td>6.639637e+07</td>\n",
       "      <td>NaN</td>\n",
       "    </tr>\n",
       "    <tr>\n",
       "      <th>K-49</th>\n",
       "      <td>1.321184e+06</td>\n",
       "      <td>7.805737e+07</td>\n",
       "      <td>NaN</td>\n",
       "    </tr>\n",
       "    <tr>\n",
       "      <th>K-50</th>\n",
       "      <td>2.045360e+06</td>\n",
       "      <td>1.792321e+08</td>\n",
       "      <td>NaN</td>\n",
       "    </tr>\n",
       "  </tbody>\n",
       "</table>\n",
       "</div>"
      ],
      "text/plain": [
       "      D-Ribose 5-phosphate  Hypoxanthine  CLASS2\n",
       "Name                                            \n",
       "K-1           1.406731e+06  9.306818e+07     NaN\n",
       "K-2           1.917346e+06  6.526088e+07     NaN\n",
       "K-3           1.902215e+06  5.711676e+07     NaN\n",
       "K-4           1.738707e+06  1.767468e+08     NaN\n",
       "K-5           2.318807e+06  1.278038e+08     NaN\n",
       "K-6           2.790601e+06  1.200290e+08     NaN\n",
       "K-7           2.625609e+06  1.055056e+08     NaN\n",
       "K-8           1.081681e+06  5.644196e+07     NaN\n",
       "K-9           1.816853e+06  2.122606e+08     NaN\n",
       "K-10          3.371298e+06  1.153428e+08     NaN\n",
       "K-12          2.395255e+06  5.592766e+07     NaN\n",
       "K-13          1.245957e+07  6.245169e+07     NaN\n",
       "K-14          6.175473e+06  9.898587e+07     NaN\n",
       "K-15          2.316156e+06  7.338427e+07     NaN\n",
       "K-16          2.961970e+06  1.132741e+08     NaN\n",
       "K-17          2.447040e+06  1.131408e+08     NaN\n",
       "K-18          4.119979e+06  1.006758e+08     NaN\n",
       "K-19          2.092887e+06  9.556239e+07     NaN\n",
       "K-20          2.145923e+06  4.768976e+07     NaN\n",
       "K-21          1.008704e+07  2.057808e+08     NaN\n",
       "K-22          2.854761e+06  1.748821e+08     NaN\n",
       "K-23          2.185601e+06  1.019103e+08     NaN\n",
       "K-24          2.563479e+06  1.171972e+08     NaN\n",
       "K-25          2.069372e+06  5.041984e+07     NaN\n",
       "K-26          6.975815e+06  6.412459e+07     NaN\n",
       "K-27          2.281326e+06  1.035590e+08     NaN\n",
       "K-28          1.712216e+06  4.291044e+07     NaN\n",
       "K-29          2.116759e+06  8.183758e+07     NaN\n",
       "K-30          5.634093e+06  7.250938e+07     NaN\n",
       "K-31          1.780193e+06  1.384344e+08     NaN\n",
       "K-32          2.200360e+06  1.178088e+08     NaN\n",
       "K-33          4.401031e+06  5.241880e+07     NaN\n",
       "K-34          2.386232e+06  9.810471e+07     NaN\n",
       "K-35          4.472078e+06  1.113434e+08     NaN\n",
       "K-36          3.654864e+06  6.236367e+07     NaN\n",
       "K-37          1.874194e+06  1.261420e+08     NaN\n",
       "K-38          4.565434e+06  1.003354e+08     NaN\n",
       "K-39          5.543140e+06  1.102204e+08     NaN\n",
       "K-40          5.440604e+06  5.775030e+07     NaN\n",
       "K-41          2.747380e+06  4.949712e+07     NaN\n",
       "K-43          2.505549e+06  1.177268e+08     NaN\n",
       "K-44          1.521831e+06  7.434871e+07     NaN\n",
       "K-45          4.463406e+06  1.592015e+08     NaN\n",
       "K-46          2.381985e+06  1.481870e+08     NaN\n",
       "K-47          4.942280e+06  1.409609e+08     NaN\n",
       "K-48          3.959402e+06  6.639637e+07     NaN\n",
       "K-49          1.321184e+06  7.805737e+07     NaN\n",
       "K-50          2.045360e+06  1.792321e+08     NaN"
      ]
     },
     "execution_count": 34,
     "metadata": {},
     "output_type": "execute_result"
    }
   ],
   "source": [
    "shuju23_"
   ]
  },
  {
   "cell_type": "code",
   "execution_count": 35,
   "id": "7f6750f6",
   "metadata": {},
   "outputs": [],
   "source": [
    "FFS23 =shuju23_.drop(columns=['CLASS2'])"
   ]
  },
  {
   "cell_type": "code",
   "execution_count": 36,
   "id": "679fb119",
   "metadata": {},
   "outputs": [
    {
     "name": "stdout",
     "output_type": "stream",
     "text": [
      "<class 'pandas.core.frame.DataFrame'>\n",
      "Index: 48 entries, K-1 to K-50\n",
      "Data columns (total 2 columns):\n",
      " #   Column                Non-Null Count  Dtype  \n",
      "---  ------                --------------  -----  \n",
      " 0   D-Ribose 5-phosphate  48 non-null     float64\n",
      " 1   Hypoxanthine          48 non-null     float64\n",
      "dtypes: float64(2)\n",
      "memory usage: 1.1+ KB\n"
     ]
    }
   ],
   "source": [
    "FFS23.info()"
   ]
  },
  {
   "cell_type": "code",
   "execution_count": 37,
   "id": "11121f57",
   "metadata": {},
   "outputs": [],
   "source": [
    "target23 = shuju23_.CLASS2"
   ]
  },
  {
   "cell_type": "code",
   "execution_count": 38,
   "id": "c10628d7",
   "metadata": {},
   "outputs": [],
   "source": [
    "transfer = StandardScaler()"
   ]
  },
  {
   "cell_type": "code",
   "execution_count": 39,
   "id": "5e19025c",
   "metadata": {},
   "outputs": [],
   "source": [
    "tezheng23 = transfer.fit_transform(FFS23)"
   ]
  },
  {
   "cell_type": "code",
   "execution_count": 40,
   "id": "7aae0174",
   "metadata": {},
   "outputs": [
    {
     "data": {
      "text/plain": [
       "array([[-8.76762360e-01, -2.12426614e-01],\n",
       "       [-6.41260789e-01, -8.76357526e-01],\n",
       "       [-6.48239596e-01, -1.07080783e+00],\n",
       "       [-7.23651339e-01,  1.78549639e+00],\n",
       "       [-4.56102893e-01,  6.16925792e-01],\n",
       "       [-2.38505944e-01,  4.31293200e-01],\n",
       "       [-3.14601998e-01,  8.45299748e-02],\n",
       "       [-1.02667927e+00, -1.08691934e+00],\n",
       "       [-6.87609690e-01,  2.63342946e+00],\n",
       "       [ 2.93180785e-02,  3.19406453e-01],\n",
       "       [-4.20844145e-01, -1.09919878e+00],\n",
       "       [ 4.22093323e+00, -9.43430232e-01],\n",
       "       [ 1.32263514e+00, -7.11348548e-02],\n",
       "       [-4.57325330e-01, -6.82402361e-01],\n",
       "       [-1.59468531e-01,  2.70011925e-01],\n",
       "       [-3.96960259e-01,  2.66830905e-01],\n",
       "       [ 3.74618170e-01, -3.07850027e-02],\n",
       "       [-5.60299705e-01, -1.52874379e-01],\n",
       "       [-5.35838529e-01, -1.29588818e+00],\n",
       "       [ 3.12669159e+00,  2.47871557e+00],\n",
       "       [-2.08914700e-01,  1.74097399e+00],\n",
       "       [-5.17538632e-01, -1.30968121e-03],\n",
       "       [-3.43257187e-01,  3.63681964e-01],\n",
       "       [-5.71145039e-01, -1.23070440e+00],\n",
       "       [ 1.69176184e+00, -9.03487930e-01],\n",
       "       [-4.73389429e-01,  3.80537553e-02],\n",
       "       [-7.35869206e-01, -1.40999990e+00],\n",
       "       [-5.49289615e-01, -4.80569987e-01],\n",
       "       [ 1.07294439e+00, -7.03291262e-01],\n",
       "       [-7.04517360e-01,  8.70743010e-01],\n",
       "       [-5.10731695e-01,  3.78284697e-01],\n",
       "       [ 5.04242453e-01, -1.18297700e+00],\n",
       "       [-4.25005522e-01, -9.21736677e-02],\n",
       "       [ 5.37010073e-01,  2.23914197e-01],\n",
       "       [ 1.60101695e-01, -9.45531903e-01],\n",
       "       [-6.61163067e-01,  5.77247521e-01],\n",
       "       [ 5.80066988e-01, -3.89139871e-02],\n",
       "       [ 1.03099603e+00,  1.97102000e-01],\n",
       "       [ 9.83705069e-01, -1.05568138e+00],\n",
       "       [-2.58440142e-01, -1.25273530e+00],\n",
       "       [-3.69975376e-01,  3.76325787e-01],\n",
       "       [-8.23676889e-01, -6.59375301e-01],\n",
       "       [ 5.33010420e-01,  1.36658303e+00],\n",
       "       [-4.26964491e-01,  1.10359937e+00],\n",
       "       [ 7.53872457e-01,  9.31066629e-01],\n",
       "       [ 3.00558283e-01, -8.49246422e-01],\n",
       "       [-9.16217811e-01, -5.70826740e-01],\n",
       "       [-5.82219378e-01,  1.84483434e+00]])"
      ]
     },
     "execution_count": 40,
     "metadata": {},
     "output_type": "execute_result"
    }
   ],
   "source": [
    "tezheng23"
   ]
  },
  {
   "cell_type": "code",
   "execution_count": 41,
   "id": "577f860a",
   "metadata": {},
   "outputs": [
    {
     "data": {
      "text/plain": [
       "array([1, 1, 1, 0, 1, 1, 1, 1, 0, 1, 1, 0, 0, 1, 1, 1, 1, 1, 1, 0, 0, 1,\n",
       "       1, 1, 0, 1, 1, 1, 1, 1, 1, 1, 1, 0, 1, 1, 1, 0, 1, 1, 1, 1, 0, 1,\n",
       "       0, 1, 1, 0], dtype=int64)"
      ]
     },
     "execution_count": 41,
     "metadata": {},
     "output_type": "execute_result"
    }
   ],
   "source": [
    "test_predict = SVC3.predict(tezheng23)\n",
    "test_predict"
   ]
  },
  {
   "cell_type": "code",
   "execution_count": null,
   "id": "990d9e48",
   "metadata": {},
   "outputs": [],
   "source": []
  },
  {
   "cell_type": "code",
   "execution_count": null,
   "id": "1784b1e0",
   "metadata": {},
   "outputs": [],
   "source": []
  }
 ],
 "metadata": {
  "kernelspec": {
   "display_name": "Python 3",
   "language": "python",
   "name": "python3"
  },
  "language_info": {
   "codemirror_mode": {
    "name": "ipython",
    "version": 3
   },
   "file_extension": ".py",
   "mimetype": "text/x-python",
   "name": "python",
   "nbconvert_exporter": "python",
   "pygments_lexer": "ipython3",
   "version": "3.8.8"
  }
 },
 "nbformat": 4,
 "nbformat_minor": 5
}
